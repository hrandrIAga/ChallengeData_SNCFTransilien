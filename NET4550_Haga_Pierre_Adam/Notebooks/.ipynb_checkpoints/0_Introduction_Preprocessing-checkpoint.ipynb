{
 "cells": [
  {
   "cell_type": "markdown",
   "metadata": {
    "id": "c8QvLgUVNpAA"
   },
   "source": [
    "# **Introduction & Preprocessing**\n",
    "\n",
    "Ce notebook a pour objectif de :\n",
    "* effectuer un premier preprocessing identique sur tout le jeu de données\n",
    "* séparer les données d'entrainement et de validation\n",
    "\n",
    "\n",
    "\n",
    "---\n",
    "\n",
    "\n"
   ]
  },
  {
   "cell_type": "code",
   "execution_count": null,
   "metadata": {
    "colab": {
     "base_uri": "https://localhost:8080/"
    },
    "executionInfo": {
     "elapsed": 2637,
     "status": "ok",
     "timestamp": 1688386002010,
     "user": {
      "displayName": "Haga RANDRIANALY",
      "userId": "06151103051613160384"
     },
     "user_tz": -120
    },
    "id": "c4Lmqh-6Rx7k",
    "outputId": "09aa25be-4f7a-4460-d4ef-73065ccefe4f"
   },
   "outputs": [
    {
     "name": "stdout",
     "output_type": "stream",
     "text": [
      "--2023-07-03 12:06:38--  https://raw.githubusercontent.com/andreaaraldo/machine-learning-for-networks/master/course_library/feature_engineering.py\n",
      "Resolving raw.githubusercontent.com (raw.githubusercontent.com)... 185.199.108.133, 185.199.109.133, 185.199.110.133, ...\n",
      "Connecting to raw.githubusercontent.com (raw.githubusercontent.com)|185.199.108.133|:443... connected.\n",
      "HTTP request sent, awaiting response... 200 OK\n",
      "Length: 2206 (2.2K) [text/plain]\n",
      "Saving to: ‘feature_engineering.py’\n",
      "\n",
      "feature_engineering 100%[===================>]   2.15K  --.-KB/s    in 0s      \n",
      "\n",
      "2023-07-03 12:06:39 (51.5 MB/s) - ‘feature_engineering.py’ saved [2206/2206]\n",
      "\n",
      "--2023-07-03 12:06:39--  https://raw.githubusercontent.com/andreaaraldo/machine-learning-for-networks/master/course_library/visualization.py\n",
      "Resolving raw.githubusercontent.com (raw.githubusercontent.com)... 185.199.108.133, 185.199.109.133, 185.199.110.133, ...\n",
      "Connecting to raw.githubusercontent.com (raw.githubusercontent.com)|185.199.108.133|:443... connected.\n",
      "HTTP request sent, awaiting response... 200 OK\n",
      "Length: 13023 (13K) [text/plain]\n",
      "Saving to: ‘visualization.py’\n",
      "\n",
      "visualization.py    100%[===================>]  12.72K  --.-KB/s    in 0s      \n",
      "\n",
      "2023-07-03 12:06:39 (110 MB/s) - ‘visualization.py’ saved [13023/13023]\n",
      "\n"
     ]
    }
   ],
   "source": [
    "# From the course library\n",
    "! wget https://raw.githubusercontent.com/andreaaraldo/machine-learning-for-networks/master/course_library/feature_engineering.py\n",
    "! wget https://raw.githubusercontent.com/andreaaraldo/machine-learning-for-networks/master/course_library/visualization.py\n",
    "\n",
    "#libraries\n",
    "import feature_engineering\n",
    "import visualization\n",
    "import pandas as pd # For dataframes (tables)\n",
    "import numpy as np # For numerical operations\n",
    "import math\n",
    "import matplotlib.pyplot as plt # For plots\n",
    "import os # To import external python files\n",
    "import sys# To import external python files\n",
    "import sklearn\n",
    "import missingno as msno\n",
    "from pandas.plotting import scatter_matrix"
   ]
  },
  {
   "cell_type": "code",
   "execution_count": null,
   "metadata": {
    "colab": {
     "base_uri": "https://localhost:8080/"
    },
    "executionInfo": {
     "elapsed": 23148,
     "status": "ok",
     "timestamp": 1688386025153,
     "user": {
      "displayName": "Haga RANDRIANALY",
      "userId": "06151103051613160384"
     },
     "user_tz": -120
    },
    "id": "KxYiy8oOR2D4",
    "outputId": "b9187ee9-1850-4a20-ff6a-49b081c640dd"
   },
   "outputs": [
    {
     "name": "stdout",
     "output_type": "stream",
     "text": [
      "Collecting GitPython\n",
      "  Downloading GitPython-3.1.31-py3-none-any.whl (184 kB)\n",
      "\u001b[2K     \u001b[90m━━━━━━━━━━━━━━━━━━━━━━━━━━━━━━━━━━━━━━━\u001b[0m \u001b[32m184.3/184.3 kB\u001b[0m \u001b[31m8.3 MB/s\u001b[0m eta \u001b[36m0:00:00\u001b[0m\n",
      "\u001b[?25hCollecting gitdb<5,>=4.0.1 (from GitPython)\n",
      "  Downloading gitdb-4.0.10-py3-none-any.whl (62 kB)\n",
      "\u001b[2K     \u001b[90m━━━━━━━━━━━━━━━━━━━━━━━━━━━━━━━━━━━━━━━━\u001b[0m \u001b[32m62.7/62.7 kB\u001b[0m \u001b[31m3.3 MB/s\u001b[0m eta \u001b[36m0:00:00\u001b[0m\n",
      "\u001b[?25hCollecting smmap<6,>=3.0.1 (from gitdb<5,>=4.0.1->GitPython)\n",
      "  Downloading smmap-5.0.0-py3-none-any.whl (24 kB)\n",
      "Installing collected packages: smmap, gitdb, GitPython\n",
      "Successfully installed GitPython-3.1.31 gitdb-4.0.10 smmap-5.0.0\n",
      "Cloning into 'ML_for_networks'...\n",
      "remote: Enumerating objects: 235, done.\u001b[K\n",
      "remote: Counting objects: 100% (235/235), done.\u001b[K\n",
      "remote: Compressing objects: 100% (197/197), done.\u001b[K\n",
      "remote: Total 235 (delta 92), reused 153 (delta 21), pack-reused 0\u001b[K\n",
      "Receiving objects: 100% (235/235), 10.90 MiB | 4.04 MiB/s, done.\n",
      "Resolving deltas: 100% (92/92), done.\n"
     ]
    },
    {
     "data": {
      "text/plain": [
       "(31119, 13)"
      ]
     },
     "execution_count": 2,
     "metadata": {},
     "output_type": "execute_result"
    }
   ],
   "source": [
    "#dataset\n",
    "import pandas as pd\n",
    "!pip install GitPython\n",
    "!git clone https://github.com/hrandrIAga/ChallengeData_SNCFTransilien.git\n",
    "dataframe = pd.read_csv('/content/ChallengeData_SNCFTransilien/NET4550_Haga_Pierre_Adam/Datasets/Datasets_initiaux/Xtrain.csv')\n",
    "yTrain = pd.read_csv('/content/ChallengeData_SNCFTransilien/NET4550_Haga_Pierre_Adam/Datasets/Datasets_initiauxYtrain.csv', usecols = [1])\n",
    "\n",
    "p0q0 = yTrain\n",
    "dataframe['p0q0'] = p0q0\n",
    "dataframe.shape"
   ]
  },
  {
   "cell_type": "code",
   "execution_count": null,
   "metadata": {
    "colab": {
     "base_uri": "https://localhost:8080/",
     "height": 363
    },
    "executionInfo": {
     "elapsed": 29,
     "status": "ok",
     "timestamp": 1688386025154,
     "user": {
      "displayName": "Haga RANDRIANALY",
      "userId": "06151103051613160384"
     },
     "user_tz": -120
    },
    "id": "BiM3lTVjAuPC",
    "outputId": "799654b8-4b77-4315-d005-128001ffd678"
   },
   "outputs": [
    {
     "data": {
      "text/html": [
       "\n",
       "  <div id=\"df-1eee8d22-9efb-4911-9015-15d030022ba3\">\n",
       "    <div class=\"colab-df-container\">\n",
       "      <div>\n",
       "<style scoped>\n",
       "    .dataframe tbody tr th:only-of-type {\n",
       "        vertical-align: middle;\n",
       "    }\n",
       "\n",
       "    .dataframe tbody tr th {\n",
       "        vertical-align: top;\n",
       "    }\n",
       "\n",
       "    .dataframe thead th {\n",
       "        text-align: right;\n",
       "    }\n",
       "</style>\n",
       "<table border=\"1\" class=\"dataframe\">\n",
       "  <thead>\n",
       "    <tr style=\"text-align: right;\">\n",
       "      <th></th>\n",
       "      <th>date</th>\n",
       "      <th>train</th>\n",
       "      <th>way</th>\n",
       "      <th>station</th>\n",
       "      <th>hour</th>\n",
       "      <th>composition</th>\n",
       "      <th>p1q0</th>\n",
       "      <th>p2q0</th>\n",
       "      <th>p3q0</th>\n",
       "      <th>p0q1</th>\n",
       "      <th>p0q2</th>\n",
       "      <th>p0q3</th>\n",
       "      <th>p0q0</th>\n",
       "    </tr>\n",
       "  </thead>\n",
       "  <tbody>\n",
       "    <tr>\n",
       "      <th>0</th>\n",
       "      <td>2019-01-07</td>\n",
       "      <td>1</td>\n",
       "      <td>0</td>\n",
       "      <td>AD</td>\n",
       "      <td>06:00:00</td>\n",
       "      <td>2</td>\n",
       "      <td>NaN</td>\n",
       "      <td>NaN</td>\n",
       "      <td>NaN</td>\n",
       "      <td>0.201</td>\n",
       "      <td>0.138</td>\n",
       "      <td>0.091</td>\n",
       "      <td>0.216</td>\n",
       "    </tr>\n",
       "    <tr>\n",
       "      <th>1</th>\n",
       "      <td>2019-01-08</td>\n",
       "      <td>1</td>\n",
       "      <td>0</td>\n",
       "      <td>AD</td>\n",
       "      <td>06:00:00</td>\n",
       "      <td>2</td>\n",
       "      <td>NaN</td>\n",
       "      <td>NaN</td>\n",
       "      <td>NaN</td>\n",
       "      <td>0.204</td>\n",
       "      <td>0.152</td>\n",
       "      <td>0.106</td>\n",
       "      <td>0.216</td>\n",
       "    </tr>\n",
       "    <tr>\n",
       "      <th>2</th>\n",
       "      <td>2019-01-10</td>\n",
       "      <td>1</td>\n",
       "      <td>0</td>\n",
       "      <td>AD</td>\n",
       "      <td>06:00:00</td>\n",
       "      <td>2</td>\n",
       "      <td>NaN</td>\n",
       "      <td>NaN</td>\n",
       "      <td>NaN</td>\n",
       "      <td>0.213</td>\n",
       "      <td>0.153</td>\n",
       "      <td>0.111</td>\n",
       "      <td>0.227</td>\n",
       "    </tr>\n",
       "    <tr>\n",
       "      <th>3</th>\n",
       "      <td>2019-01-11</td>\n",
       "      <td>1</td>\n",
       "      <td>0</td>\n",
       "      <td>AD</td>\n",
       "      <td>06:00:00</td>\n",
       "      <td>2</td>\n",
       "      <td>NaN</td>\n",
       "      <td>NaN</td>\n",
       "      <td>NaN</td>\n",
       "      <td>0.213</td>\n",
       "      <td>0.152</td>\n",
       "      <td>0.108</td>\n",
       "      <td>0.229</td>\n",
       "    </tr>\n",
       "    <tr>\n",
       "      <th>4</th>\n",
       "      <td>2019-01-14</td>\n",
       "      <td>1</td>\n",
       "      <td>0</td>\n",
       "      <td>AD</td>\n",
       "      <td>06:00:00</td>\n",
       "      <td>2</td>\n",
       "      <td>NaN</td>\n",
       "      <td>NaN</td>\n",
       "      <td>NaN</td>\n",
       "      <td>0.210</td>\n",
       "      <td>0.147</td>\n",
       "      <td>0.096</td>\n",
       "      <td>0.225</td>\n",
       "    </tr>\n",
       "    <tr>\n",
       "      <th>5</th>\n",
       "      <td>2019-01-15</td>\n",
       "      <td>1</td>\n",
       "      <td>0</td>\n",
       "      <td>AD</td>\n",
       "      <td>06:00:00</td>\n",
       "      <td>2</td>\n",
       "      <td>NaN</td>\n",
       "      <td>NaN</td>\n",
       "      <td>NaN</td>\n",
       "      <td>0.218</td>\n",
       "      <td>0.154</td>\n",
       "      <td>0.106</td>\n",
       "      <td>0.238</td>\n",
       "    </tr>\n",
       "    <tr>\n",
       "      <th>6</th>\n",
       "      <td>2019-01-17</td>\n",
       "      <td>1</td>\n",
       "      <td>0</td>\n",
       "      <td>AD</td>\n",
       "      <td>06:00:00</td>\n",
       "      <td>2</td>\n",
       "      <td>NaN</td>\n",
       "      <td>NaN</td>\n",
       "      <td>NaN</td>\n",
       "      <td>0.209</td>\n",
       "      <td>0.140</td>\n",
       "      <td>0.094</td>\n",
       "      <td>0.228</td>\n",
       "    </tr>\n",
       "    <tr>\n",
       "      <th>7</th>\n",
       "      <td>2019-01-18</td>\n",
       "      <td>1</td>\n",
       "      <td>0</td>\n",
       "      <td>AD</td>\n",
       "      <td>06:00:00</td>\n",
       "      <td>2</td>\n",
       "      <td>NaN</td>\n",
       "      <td>NaN</td>\n",
       "      <td>NaN</td>\n",
       "      <td>0.207</td>\n",
       "      <td>0.141</td>\n",
       "      <td>0.104</td>\n",
       "      <td>0.217</td>\n",
       "    </tr>\n",
       "    <tr>\n",
       "      <th>8</th>\n",
       "      <td>2019-01-21</td>\n",
       "      <td>1</td>\n",
       "      <td>0</td>\n",
       "      <td>AD</td>\n",
       "      <td>06:00:00</td>\n",
       "      <td>2</td>\n",
       "      <td>NaN</td>\n",
       "      <td>NaN</td>\n",
       "      <td>NaN</td>\n",
       "      <td>0.234</td>\n",
       "      <td>0.149</td>\n",
       "      <td>0.111</td>\n",
       "      <td>0.258</td>\n",
       "    </tr>\n",
       "    <tr>\n",
       "      <th>9</th>\n",
       "      <td>2019-01-22</td>\n",
       "      <td>1</td>\n",
       "      <td>0</td>\n",
       "      <td>AD</td>\n",
       "      <td>06:00:00</td>\n",
       "      <td>2</td>\n",
       "      <td>NaN</td>\n",
       "      <td>NaN</td>\n",
       "      <td>NaN</td>\n",
       "      <td>0.223</td>\n",
       "      <td>0.151</td>\n",
       "      <td>0.102</td>\n",
       "      <td>0.242</td>\n",
       "    </tr>\n",
       "  </tbody>\n",
       "</table>\n",
       "</div>\n",
       "      <button class=\"colab-df-convert\" onclick=\"convertToInteractive('df-1eee8d22-9efb-4911-9015-15d030022ba3')\"\n",
       "              title=\"Convert this dataframe to an interactive table.\"\n",
       "              style=\"display:none;\">\n",
       "        \n",
       "  <svg xmlns=\"http://www.w3.org/2000/svg\" height=\"24px\"viewBox=\"0 0 24 24\"\n",
       "       width=\"24px\">\n",
       "    <path d=\"M0 0h24v24H0V0z\" fill=\"none\"/>\n",
       "    <path d=\"M18.56 5.44l.94 2.06.94-2.06 2.06-.94-2.06-.94-.94-2.06-.94 2.06-2.06.94zm-11 1L8.5 8.5l.94-2.06 2.06-.94-2.06-.94L8.5 2.5l-.94 2.06-2.06.94zm10 10l.94 2.06.94-2.06 2.06-.94-2.06-.94-.94-2.06-.94 2.06-2.06.94z\"/><path d=\"M17.41 7.96l-1.37-1.37c-.4-.4-.92-.59-1.43-.59-.52 0-1.04.2-1.43.59L10.3 9.45l-7.72 7.72c-.78.78-.78 2.05 0 2.83L4 21.41c.39.39.9.59 1.41.59.51 0 1.02-.2 1.41-.59l7.78-7.78 2.81-2.81c.8-.78.8-2.07 0-2.86zM5.41 20L4 18.59l7.72-7.72 1.47 1.35L5.41 20z\"/>\n",
       "  </svg>\n",
       "      </button>\n",
       "      \n",
       "  <style>\n",
       "    .colab-df-container {\n",
       "      display:flex;\n",
       "      flex-wrap:wrap;\n",
       "      gap: 12px;\n",
       "    }\n",
       "\n",
       "    .colab-df-convert {\n",
       "      background-color: #E8F0FE;\n",
       "      border: none;\n",
       "      border-radius: 50%;\n",
       "      cursor: pointer;\n",
       "      display: none;\n",
       "      fill: #1967D2;\n",
       "      height: 32px;\n",
       "      padding: 0 0 0 0;\n",
       "      width: 32px;\n",
       "    }\n",
       "\n",
       "    .colab-df-convert:hover {\n",
       "      background-color: #E2EBFA;\n",
       "      box-shadow: 0px 1px 2px rgba(60, 64, 67, 0.3), 0px 1px 3px 1px rgba(60, 64, 67, 0.15);\n",
       "      fill: #174EA6;\n",
       "    }\n",
       "\n",
       "    [theme=dark] .colab-df-convert {\n",
       "      background-color: #3B4455;\n",
       "      fill: #D2E3FC;\n",
       "    }\n",
       "\n",
       "    [theme=dark] .colab-df-convert:hover {\n",
       "      background-color: #434B5C;\n",
       "      box-shadow: 0px 1px 3px 1px rgba(0, 0, 0, 0.15);\n",
       "      filter: drop-shadow(0px 1px 2px rgba(0, 0, 0, 0.3));\n",
       "      fill: #FFFFFF;\n",
       "    }\n",
       "  </style>\n",
       "\n",
       "      <script>\n",
       "        const buttonEl =\n",
       "          document.querySelector('#df-1eee8d22-9efb-4911-9015-15d030022ba3 button.colab-df-convert');\n",
       "        buttonEl.style.display =\n",
       "          google.colab.kernel.accessAllowed ? 'block' : 'none';\n",
       "\n",
       "        async function convertToInteractive(key) {\n",
       "          const element = document.querySelector('#df-1eee8d22-9efb-4911-9015-15d030022ba3');\n",
       "          const dataTable =\n",
       "            await google.colab.kernel.invokeFunction('convertToInteractive',\n",
       "                                                     [key], {});\n",
       "          if (!dataTable) return;\n",
       "\n",
       "          const docLinkHtml = 'Like what you see? Visit the ' +\n",
       "            '<a target=\"_blank\" href=https://colab.research.google.com/notebooks/data_table.ipynb>data table notebook</a>'\n",
       "            + ' to learn more about interactive tables.';\n",
       "          element.innerHTML = '';\n",
       "          dataTable['output_type'] = 'display_data';\n",
       "          await google.colab.output.renderOutput(dataTable, element);\n",
       "          const docLink = document.createElement('div');\n",
       "          docLink.innerHTML = docLinkHtml;\n",
       "          element.appendChild(docLink);\n",
       "        }\n",
       "      </script>\n",
       "    </div>\n",
       "  </div>\n",
       "  "
      ],
      "text/plain": [
       "         date  train  way station      hour  composition  p1q0  p2q0  p3q0  \\\n",
       "0  2019-01-07      1    0      AD  06:00:00            2   NaN   NaN   NaN   \n",
       "1  2019-01-08      1    0      AD  06:00:00            2   NaN   NaN   NaN   \n",
       "2  2019-01-10      1    0      AD  06:00:00            2   NaN   NaN   NaN   \n",
       "3  2019-01-11      1    0      AD  06:00:00            2   NaN   NaN   NaN   \n",
       "4  2019-01-14      1    0      AD  06:00:00            2   NaN   NaN   NaN   \n",
       "5  2019-01-15      1    0      AD  06:00:00            2   NaN   NaN   NaN   \n",
       "6  2019-01-17      1    0      AD  06:00:00            2   NaN   NaN   NaN   \n",
       "7  2019-01-18      1    0      AD  06:00:00            2   NaN   NaN   NaN   \n",
       "8  2019-01-21      1    0      AD  06:00:00            2   NaN   NaN   NaN   \n",
       "9  2019-01-22      1    0      AD  06:00:00            2   NaN   NaN   NaN   \n",
       "\n",
       "    p0q1   p0q2   p0q3   p0q0  \n",
       "0  0.201  0.138  0.091  0.216  \n",
       "1  0.204  0.152  0.106  0.216  \n",
       "2  0.213  0.153  0.111  0.227  \n",
       "3  0.213  0.152  0.108  0.229  \n",
       "4  0.210  0.147  0.096  0.225  \n",
       "5  0.218  0.154  0.106  0.238  \n",
       "6  0.209  0.140  0.094  0.228  \n",
       "7  0.207  0.141  0.104  0.217  \n",
       "8  0.234  0.149  0.111  0.258  \n",
       "9  0.223  0.151  0.102  0.242  "
      ]
     },
     "execution_count": 3,
     "metadata": {},
     "output_type": "execute_result"
    }
   ],
   "source": [
    "dataframe.head(10)"
   ]
  },
  {
   "cell_type": "markdown",
   "metadata": {
    "id": "jr-qSNb7O9Au"
   },
   "source": [
    "## I. Data Preprocessing"
   ]
  },
  {
   "cell_type": "markdown",
   "metadata": {
    "id": "w8cmHFR9PKR5"
   },
   "source": [
    "### *A/ Feature 1 : Date*\n",
    "On suppose que connaître la date précise apporte moins d'information que de connaître le jour de la semaine\n",
    "> On convertit la date en jour de la semaine"
   ]
  },
  {
   "cell_type": "code",
   "execution_count": null,
   "metadata": {
    "id": "pry-PjqeSXKT"
   },
   "outputs": [],
   "source": [
    "dataframe['date'] = pd.to_datetime(dataframe['date'])\n",
    "\n",
    "# Extraire le jour de la semaine et l'ajouter comme colonne 'day'\n",
    "dataframe['day'] = dataframe['date'].dt.day_name()"
   ]
  },
  {
   "cell_type": "code",
   "execution_count": null,
   "metadata": {
    "colab": {
     "base_uri": "https://localhost:8080/",
     "height": 569
    },
    "executionInfo": {
     "elapsed": 25,
     "status": "ok",
     "timestamp": 1688386025155,
     "user": {
      "displayName": "Haga RANDRIANALY",
      "userId": "06151103051613160384"
     },
     "user_tz": -120
    },
    "id": "kB4d1NDFSbQw",
    "outputId": "a91dfaa8-7433-435e-ebf6-901be438c5e8"
   },
   "outputs": [
    {
     "data": {
      "image/png": "[encoded data removed]",
      "text/plain": [
       "<Figure size 1200x600 with 1 Axes>"
      ]
     },
     "metadata": {},
     "output_type": "display_data"
    }
   ],
   "source": [
    "# Comptage des occurrences des jours de la semaine\n",
    "counts = dataframe['day'].value_counts()\n",
    "\n",
    "# Tracé de l'histogramme avec espacement des barres\n",
    "fig, ax = plt.subplots(figsize=(12, 6))\n",
    "bar_width = 1.5\n",
    "bar_positions = np.arange(len(counts)) * 3\n",
    "\n",
    "ax.bar(bar_positions, counts, width=bar_width)\n",
    "\n",
    "# Configuration de l'affichage du graphique\n",
    "plt.title('Répétitions des jours de la semaine')\n",
    "plt.xlabel('Jour de la semaine')\n",
    "plt.ylabel('Fréquence')\n",
    "\n",
    "# Définition des positions et des labels des ticks\n",
    "ax.set_xticks(bar_positions)\n",
    "ax.set_xticklabels(counts.index, rotation='horizontal')\n",
    "\n",
    "# Affichage du graphique\n",
    "plt.tight_layout()\n",
    "plt.show()\n"
   ]
  },
  {
   "cell_type": "markdown",
   "metadata": {
    "id": "oKPGHsGUSelb"
   },
   "source": [
    "Pour exploiter cette information (jour de la semaine) dans un modele, il faut catégoriser.  \n",
    "Or, il n'y a pas de relation d'ordre/ni d'importance entre chaque jour\n",
    "> --> on applique le one hot encoding"
   ]
  },
  {
   "cell_type": "code",
   "execution_count": null,
   "metadata": {
    "id": "BB9LLnY-SirE"
   },
   "outputs": [],
   "source": [
    "# Appliquer le One-Hot Encoding sur la colonne 'Day'\n",
    "one_hot_encoded = pd.get_dummies(dataframe['day'])\n",
    "\n",
    "one_hot_encoded = one_hot_encoded.add_prefix('Day_')\n",
    "\n",
    "# Ajouter les colonnes encodées au DataFrame d'origine\n",
    "dataframe = pd.concat([dataframe, one_hot_encoded], axis=1)"
   ]
  },
  {
   "cell_type": "markdown",
   "metadata": {
    "id": "_BA6FbFXPSxT"
   },
   "source": [
    "### *B/ Feature 2 : Train*\n"
   ]
  },
  {
   "cell_type": "markdown",
   "metadata": {
    "id": "0MM4x_OSSrt4"
   },
   "source": [
    "Pour exploiter cette information (jour de la semaine) dans un modele, il faut catégoriser.\n",
    "Or, il n'y a pas de relation d'ordre/ni d'importance entre chaque jour\n",
    "> --> on applique le one hot encoding"
   ]
  },
  {
   "cell_type": "code",
   "execution_count": null,
   "metadata": {
    "id": "2d-W-mylSt_-"
   },
   "outputs": [],
   "source": [
    "# Appliquer le One-Hot Encoding sur la colonne 'train'\n",
    "one_hot_encoded = pd.get_dummies(dataframe['train'])\n",
    "\n",
    "# Renommer les colonnes générées avec un préfixe 'Train_'\n",
    "one_hot_encoded = one_hot_encoded.add_prefix('Train_')\n",
    "\n",
    "# Ajouter les colonnes encodées au DataFrame d'origine\n",
    "dataframe = pd.concat([dataframe, one_hot_encoded], axis=1)"
   ]
  },
  {
   "cell_type": "code",
   "execution_count": null,
   "metadata": {
    "colab": {
     "base_uri": "https://localhost:8080/",
     "height": 458
    },
    "executionInfo": {
     "elapsed": 560,
     "status": "ok",
     "timestamp": 1688386025692,
     "user": {
      "displayName": "Haga RANDRIANALY",
      "userId": "06151103051613160384"
     },
     "user_tz": -120
    },
    "id": "cJ-PhuCCS0JD",
    "outputId": "7d22c584-a58c-43b9-ceb7-8ca241d4453f"
   },
   "outputs": [
    {
     "data": {
      "image/png": "[encoded data removed]",
      "text/plain": [
       "<Figure size 1500x600 with 1 Axes>"
      ]
     },
     "metadata": {},
     "output_type": "display_data"
    }
   ],
   "source": [
    "# Comptage des occurrences des trains\n",
    "counts = dataframe['train'].value_counts()\n",
    "\n",
    "# Tracé de l'histogramme avec espacement des barres\n",
    "fig, ax = plt.subplots(figsize=(15, 6))\n",
    "bar_width = 1.5\n",
    "bar_positions = np.arange(len(counts)) * 3\n",
    "\n",
    "ax.bar(bar_positions, counts, width=bar_width)\n",
    "\n",
    "# Configuration de l'affichage du graphique\n",
    "plt.title('Répétitions des trains')\n",
    "plt.xlabel('Trains')\n",
    "plt.ylabel('Fréquence')\n",
    "\n",
    "# Définition des positions et des labels des ticks\n",
    "ax.set_xticks(bar_positions)\n",
    "ax.set_xticklabels(counts.index, rotation='horizontal')\n",
    "\n",
    "# Affichage du graphique\n",
    "plt.tight_layout()\n",
    "plt.show()\n"
   ]
  },
  {
   "cell_type": "markdown",
   "metadata": {
    "id": "_oJHk9uCPZQd"
   },
   "source": [
    "### *C/ Feature 3: Station*"
   ]
  },
  {
   "cell_type": "markdown",
   "metadata": {
    "id": "xi0dlkYZToKZ"
   },
   "source": [
    "Pour exploiter cette information (l'identifiant de la station) dans un modele, il faut catégoriser.\n",
    "Or, il n'y a pas de relation d'ordre/ni d'importance entre chaque jour\n",
    "--> on applique le one hot encoding"
   ]
  },
  {
   "cell_type": "code",
   "execution_count": null,
   "metadata": {
    "id": "j50gYFGuTsld"
   },
   "outputs": [],
   "source": [
    "# Appliquer le One-Hot Encoding sur la colonne 'station'\n",
    "one_hot_encoded = pd.get_dummies(dataframe['station'])\n",
    "# Renommer les colonnes générées avec un préfixe 'Station_'\n",
    "\n",
    "one_hot_encoded = one_hot_encoded.add_prefix('Station_')\n",
    "\n",
    "# Ajouter les colonnes encodées au DataFrame d'origine\n",
    "dataframe = pd.concat([dataframe, one_hot_encoded], axis=1)"
   ]
  },
  {
   "cell_type": "code",
   "execution_count": null,
   "metadata": {
    "colab": {
     "base_uri": "https://localhost:8080/",
     "height": 458
    },
    "executionInfo": {
     "elapsed": 865,
     "status": "ok",
     "timestamp": 1688386026553,
     "user": {
      "displayName": "Haga RANDRIANALY",
      "userId": "06151103051613160384"
     },
     "user_tz": -120
    },
    "id": "W-7x-YjzTwJo",
    "outputId": "fb88a738-5fd0-4dd2-dabf-6ae947a797cf"
   },
   "outputs": [
    {
     "data": {
      "image/png": "[encoded data removed]",
      "text/plain": [
       "<Figure size 1500x600 with 1 Axes>"
      ]
     },
     "metadata": {},
     "output_type": "display_data"
    }
   ],
   "source": [
    "# Comptage des occurrences des stations\n",
    "counts = dataframe['station'].value_counts()\n",
    "\n",
    "# Tracé de l'histogramme avec espacement des barres\n",
    "fig, ax = plt.subplots(figsize=(15, 6))\n",
    "bar_width = 1.5\n",
    "bar_positions = np.arange(len(counts)) * 3\n",
    "\n",
    "ax.bar(bar_positions, counts, width=bar_width)\n",
    "\n",
    "# Configuration de l'affichage du graphique\n",
    "plt.title('Répétitions des stations')\n",
    "plt.xlabel('Station')\n",
    "plt.ylabel('Fréquence')\n",
    "\n",
    "# Définition des positions et des labels des ticks\n",
    "ax.set_xticks(bar_positions)\n",
    "ax.set_xticklabels(counts.index, rotation='horizontal')\n",
    "\n",
    "# Affichage du graphique\n",
    "plt.tight_layout()\n",
    "plt.show()\n"
   ]
  },
  {
   "cell_type": "markdown",
   "metadata": {
    "id": "78BO42DqPbXt"
   },
   "source": [
    "### *D/ Feature 4: Hour*"
   ]
  },
  {
   "cell_type": "code",
   "execution_count": null,
   "metadata": {
    "colab": {
     "base_uri": "https://localhost:8080/"
    },
    "executionInfo": {
     "elapsed": 11,
     "status": "ok",
     "timestamp": 1688386026553,
     "user": {
      "displayName": "Haga RANDRIANALY",
      "userId": "06151103051613160384"
     },
     "user_tz": -120
    },
    "id": "e7DX1Y46T64H",
    "outputId": "5384328d-a671-4b13-c938-5ef576be743c"
   },
   "outputs": [
    {
     "name": "stdout",
     "output_type": "stream",
     "text": [
      "Values of hour:  ['06:00:00' '07:00:00' nan '08:00:00' '09:00:00' '11:00:00']\n"
     ]
    }
   ],
   "source": [
    "#Check the possible values that way can take\n",
    "print (\"Values of hour: \",  dataframe['hour'].unique() )"
   ]
  },
  {
   "cell_type": "markdown",
   "metadata": {
    "id": "RXP_z8bGT38B"
   },
   "source": [
    "Suite au résultat suivant, Il semble que les NAN soient une erreur dans le dataset, et qu'ils désignent les valeurs récoltées à 10h00\n",
    "> --> On remplace les nan par '10:00:00'"
   ]
  },
  {
   "cell_type": "code",
   "execution_count": null,
   "metadata": {
    "id": "lGl28XF3T2lh"
   },
   "outputs": [],
   "source": [
    "dataframe['hour'] = dataframe['hour'].fillna('10:00:00')"
   ]
  },
  {
   "cell_type": "markdown",
   "metadata": {
    "id": "KW5E8tApUL2Q"
   },
   "source": [
    "Pour exploiter dans un modèle, il faut catégoriser.\n",
    "Il y a une relation d'ordre entre les heures\n",
    "> --> on transforme les heures en int"
   ]
  },
  {
   "cell_type": "code",
   "execution_count": null,
   "metadata": {
    "id": "rWgSMDwvUPcn"
   },
   "outputs": [],
   "source": [
    "hour_int = dataframe['hour']\n",
    "hour_int = hour_int.str[:2].astype(int)\n",
    "dataframe['hour_int'] = hour_int"
   ]
  },
  {
   "cell_type": "markdown",
   "metadata": {
    "id": "DetVcIoZPd3m"
   },
   "source": [
    "### *E/ Feature 5: Way*"
   ]
  },
  {
   "cell_type": "code",
   "execution_count": null,
   "metadata": {
    "colab": {
     "base_uri": "https://localhost:8080/"
    },
    "executionInfo": {
     "elapsed": 7,
     "status": "ok",
     "timestamp": 1688386026554,
     "user": {
      "displayName": "Haga RANDRIANALY",
      "userId": "06151103051613160384"
     },
     "user_tz": -120
    },
    "id": "-xbRN2FbUV2O",
    "outputId": "5d0c4de6-4406-4822-804e-c977bc2cb517"
   },
   "outputs": [
    {
     "name": "stdout",
     "output_type": "stream",
     "text": [
      "Values of way:  [0]\n"
     ]
    }
   ],
   "source": [
    "#Check the possible values that way can take\n",
    "print (\"Values of way: \",  dataframe['way'].unique() )"
   ]
  },
  {
   "cell_type": "markdown",
   "metadata": {
    "id": "EvPMtycKUYUc"
   },
   "source": [
    "On remarque que la seule valeur possible est 0.\n",
    "Cela signfie que l'ensemble des trains sont en direction de Paris.\n",
    "Ce qui explique pourquoi toutes les mesures dans le dataset ont été faites le matin.\n",
    "Cela n'apportera donc pas d'information modèle\n",
    "> --> drop la colonne"
   ]
  },
  {
   "cell_type": "code",
   "execution_count": null,
   "metadata": {
    "id": "_qqXH87EUdo2"
   },
   "outputs": [],
   "source": [
    "dataframe = dataframe.drop('way', axis  =1)"
   ]
  },
  {
   "cell_type": "markdown",
   "metadata": {
    "id": "HRO4JOGvPhHo"
   },
   "source": [
    "### *F/ Feature 6: Composition*"
   ]
  },
  {
   "cell_type": "code",
   "execution_count": null,
   "metadata": {
    "colab": {
     "base_uri": "https://localhost:8080/",
     "height": 472
    },
    "executionInfo": {
     "elapsed": 431,
     "status": "ok",
     "timestamp": 1688386026980,
     "user": {
      "displayName": "Haga RANDRIANALY",
      "userId": "06151103051613160384"
     },
     "user_tz": -120
    },
    "id": "-tD4t8KTUkun",
    "outputId": "038e258b-48bc-4853-cd4d-37868fc4a1ac"
   },
   "outputs": [
    {
     "data": {
      "image/png": "[encoded data removed]",
      "text/plain": [
       "<Figure size 640x480 with 1 Axes>"
      ]
     },
     "metadata": {},
     "output_type": "display_data"
    }
   ],
   "source": [
    "# Créer un histogramme des valeurs de la colonne 'composition'\n",
    "dataframe['composition'].hist()\n",
    "\n",
    "# Ajouter un titre et des labels aux axes\n",
    "plt.title(\"Histogramme de la colonne 'composition'\")\n",
    "plt.xlabel(\"Valeurs de composition\")\n",
    "plt.ylabel(\"Fréquence\")\n",
    "\n",
    "# Afficher l'histogramme\n",
    "plt.show()"
   ]
  },
  {
   "cell_type": "markdown",
   "metadata": {
    "id": "1MYj8AGtUn8v"
   },
   "source": [
    "Il n y a que 2 trains (sur 31119) dans le dataset qui sont \"courts\" (composés d'une seule rame)\n",
    "> --> On drop ces lignes"
   ]
  },
  {
   "cell_type": "code",
   "execution_count": null,
   "metadata": {
    "id": "1mlmkldsUtno"
   },
   "outputs": [],
   "source": [
    "dataframe = dataframe[dataframe['composition'] != 1]"
   ]
  },
  {
   "cell_type": "markdown",
   "metadata": {
    "id": "Y_xZ9F4MPjB7"
   },
   "source": [
    "## II. Gestion des Nan"
   ]
  },
  {
   "cell_type": "markdown",
   "metadata": {
    "id": "JoHYbgWdU48U"
   },
   "source": [
    "Ajout d'une colonne précisant le nombre et la position des NAN pour chaque exemple\n",
    "\n",
    "Par exemple, si pour les colonnes\n",
    "> [p1q0 ; p2q0 ; p3q0 ; p0q1 ; p0q2 ; p0q3]  \n",
    "L'exemple prend les valeurs :  \n",
    "> [ nan ; nan ; 0.2 ; 0.5 ; 0.6 ;  nan]  \n",
    "Alors le filtre associé est  \n",
    "> ['x     x      o     o     o     x '  ]\n"
   ]
  },
  {
   "cell_type": "code",
   "execution_count": null,
   "metadata": {
    "id": "bnj2iAU7O66W"
   },
   "outputs": [],
   "source": [
    "\n",
    "# Fonction pour vérifier la présence de NaN et assigner les valeurs correspondantes\n",
    "def assign_filter(row):\n",
    "    filter_value = ''\n",
    "    filter_value += 'x' if pd.isna(row['p1q0']) else 'o'\n",
    "    filter_value += 'x' if pd.isna(row['p2q0']) else 'o'\n",
    "    filter_value += 'x' if pd.isna(row['p3q0']) else 'o'\n",
    "    filter_value += 'x' if pd.isna(row['p0q1']) else 'o'\n",
    "    filter_value += 'x' if pd.isna(row['p0q2']) else 'o'\n",
    "    filter_value += 'x' if pd.isna(row['p0q3']) else 'o'\n",
    "    return filter_value\n",
    "\n",
    "# Ajouter la colonne 'filtre' au DataFrame en appliquant la fonction assign_filter sur chaque ligne\n",
    "dataframe['filtre'] = dataframe.apply(assign_filter, axis=1)"
   ]
  },
  {
   "cell_type": "markdown",
   "metadata": {
    "id": "OMe4RGwQVCWn"
   },
   "source": [
    "## III. Train/Validation Split"
   ]
  },
  {
   "cell_type": "markdown",
   "metadata": {
    "id": "6gSKeL33VYRa"
   },
   "source": [
    "Notre stratégie pour résoudre le problème est de comparer :  \n",
    "* entrainement d'un unique modèle sur l'ensemble du dataset\n",
    "* entrainement et test de plusieurs modèles sur chaque portion du dataset, puis validation sur un dataset de validation.\n",
    "\n",
    "> Pour obtenir un résultat le plus pertinent possible, il faut que le dataset de validation est la même proportion (en terme de filtre) que le dataset initial"
   ]
  },
  {
   "cell_type": "code",
   "execution_count": null,
   "metadata": {
    "id": "WaDlD1yCYh-t"
   },
   "outputs": [],
   "source": [
    "from sklearn.model_selection import train_test_split\n",
    "\n",
    "dataframes=['xxxooo', 'ooxooo', 'oooooo', 'xxxxxx', 'xxxoxx', 'xxxoox',\n",
    "       'oooxxx', 'ooooxx', 'ooooox', 'oxxooo', 'oxxoox', 'oxxoxx',\n",
    "       'oxxxxx', 'ooxoox', 'ooxoxx', 'ooxxxx']\n",
    "dict = {}\n",
    "\n",
    "# on construit un dictionnaire contenant en clé le filtre (== position et nombre de NaN)\n",
    "# et en valeur la portion validation correspondante\n",
    "\n",
    "for i in range(len(dataframes)):\n",
    "  df = dataframe[dataframe['filtre'] == dataframes[i]]\n",
    "  df_train, df_validation = train_test_split(df, test_size=0.2, random_state=42)\n",
    "  dict[dataframes[i]] = [df_train, df_validation]\n"
   ]
  },
  {
   "cell_type": "code",
   "execution_count": null,
   "metadata": {
    "id": "Diky229xNgeP"
   },
   "outputs": [],
   "source": [
    "# On peut désormais concaténer l'ensemble des dataset de validation\n",
    "dataframe_validation = pd.concat([dict['xxxooo'][1],dict['ooxooo'][1],dict['oooooo'][1],dict['xxxxxx'][1],dict['xxxoxx'][1],dict['xxxoox'][1],dict['oooxxx'][1],dict['ooooxx'][1],dict['ooooox'][1],dict['oxxooo'][1],dict['oxxoox'][1],dict['oxxoox'][1],dict['oxxoxx'][1],dict['oxxxxx'][1],dict['ooxoox'][1],dict['ooxoxx'][1],dict['ooxxxx'][1]],ignore_index=True)\n"
   ]
  },
  {
   "cell_type": "code",
   "execution_count": null,
   "metadata": {
    "id": "VcUQPUB_fcg6"
   },
   "outputs": [],
   "source": [
    "dataframe_validation.to_csv('dataframe_validation.csv')\n",
    "#Nous avons ensuite télécharger ce csv et placer directement dans le dossier au chemin :\n",
    "# /NET4550_Haga&Pierre&Adam/Datasets/Datasets_new/dataframe_validation.csv'"
   ]
  },
  {
   "cell_type": "code",
   "execution_count": null,
   "metadata": {
    "id": "2TKNYmQwqFXX"
   },
   "outputs": [],
   "source": [
    "# On peut désormais concaténer l'ensemble des dataset d'entrainement'\n",
    "dataframe_train = pd.concat([dict['xxxooo'][0],dict['ooxooo'][0],dict['oooooo'][0],dict['xxxxxx'][0],dict['xxxoxx'][0],dict['xxxoox'][0],dict['oooxxx'][0],dict['ooooxx'][0],dict['ooooox'][0],dict['oxxooo'][0],dict['oxxoox'][0],dict['oxxoox'][0],dict['oxxoxx'][0],dict['oxxxxx'][0],dict['ooxoox'][0],dict['ooxoxx'][0],dict['ooxxxx'][0]],ignore_index=True)\n",
    "dataframe_train.to_csv('dataframe_train.csv')\n",
    "#Nous avons ensuite télécharger ce csv et placer directement dans le dossier au chemin :\n",
    "# /NET4550_Haga&Pierre&Adam/Datasets/Datasets_new/dataframe_train.csv'"
   ]
  },
  {
   "cell_type": "markdown",
   "metadata": {
    "id": "e6XDFOetbvDw"
   },
   "source": [
    "## III. Conclusion du dataset\n",
    "\n",
    "Comme indiqué dans les [slides](https://docs.google.com/presentation/d/1hbtUQyBCMXkWVdXpzlyux46Yxju7sGRxX_X8sbgty4A/edit?usp=drive_link)\n",
    "Nous avons remarqué dans la phase d'exploration que la précence des NAN apporte une indication :\n",
    "* ex :  presence de 6 NAN --> premier train de la gare, à la première gare de la ligne\n",
    "\n",
    "On décide donc de comparer plusieurs méthodes :\n",
    "* un modèle qui ignore les valeurs historiques (et donc les NAN) et utilise uniquement les variables contextuelles sans les variables historiques\n",
    "> [notebook : 1_Model_Contextuel](https://colab.research.google.com/drive/1gE5fYW7pLHTKK_p58lutKf-TBwgLpfM9?usp=sharing)\n",
    "\n",
    "* un modèle qui utilise uniquement les variables historiques en ignorant les variables contextuelles\n",
    "> [notebook : 2_model_Historique](https://colab.research.google.com/drive/1YaTJtLC31DAsB5Zvj9gv9YaJTo_6xiMr?usp=sharing)\n",
    "\n",
    "* un modèle qui utilise les 2 types de variables sur l'ensemble du dataset\n",
    "> [notebook : 3_Model_FullDataset](https://colab.research.google.com/drive/16PmMoDXvzsJl9yHDuEDrXx8q0rF_82JU?usp=sharing)\n",
    "\n",
    "* un modèle, composé de plusieurs subdivisions spécialisées (une pour chaque combinaison de position de nan qui apporte une information sur le niveau sur la ligne de train et la gare)\n",
    "> [notebook : 4_Model_Specialised](https://colab.research.google.com/drive/1-7KGxkhTlh4ozYbjF2YkzQCNaEZgw-M6?usp=sharing)\n",
    "\n",
    "* un notebook exploitant les erreurs du dataset pour obtenir le meilleur score possible dans le cadre du challenge\n",
    "> [notebook : 5_Best_score](https://colab.research.google.com/drive/13oXVoK3tPACRXKE2RyEfVn_NO2nKV0L_?usp=sharing)"
   ]
  }
 ],
 "metadata": {
  "colab": {
   "authorship_tag": "ABX9TyOOxlHC0UM6ipn2XLBaCm81",
   "provenance": []
  },
  "kernelspec": {
   "display_name": "Python 3 (ipykernel)",
   "language": "python",
   "name": "python3"
  },
  "language_info": {
   "codemirror_mode": {
    "name": "ipython",
    "version": 3
   },
   "file_extension": ".py",
   "mimetype": "text/x-python",
   "name": "python",
   "nbconvert_exporter": "python",
   "pygments_lexer": "ipython3",
   "version": "3.11.4"
  }
 },
 "nbformat": 4,
 "nbformat_minor": 1
}
