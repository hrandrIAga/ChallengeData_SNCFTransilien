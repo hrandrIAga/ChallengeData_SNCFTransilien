{
 "cells": [
  {
   "cell_type": "markdown",
   "metadata": {
    "id": "3bTSO000CshE"
   },
   "source": [
    "# Modele Historique\n",
    "\n",
    "Comme indiqué dans le notebook [0](), nous allons construire un modèle prenons en compte uniquement les variables historiques : [p1q0, p2q0, p3q0, p0q1,p0q2, p0q3]\n",
    "\n"
   ]
  },
  {
   "cell_type": "code",
   "execution_count": null,
   "metadata": {
    "colab": {
     "base_uri": "https://localhost:8080/"
    },
    "executionInfo": {
     "elapsed": 3286,
     "status": "ok",
     "timestamp": 1688404479987,
     "user": {
      "displayName": "Haga RANDRIANALY",
      "userId": "06151103051613160384"
     },
     "user_tz": -120
    },
    "id": "q5CXTKlJC6bA",
    "outputId": "dc0ea7f6-331a-46fa-f20c-0c51d7e0bf71"
   },
   "outputs": [
    {
     "name": "stdout",
     "output_type": "stream",
     "text": [
      "--2023-07-03 17:14:35--  https://raw.githubusercontent.com/andreaaraldo/machine-learning-for-networks/master/course_library/feature_engineering.py\n",
      "Resolving raw.githubusercontent.com (raw.githubusercontent.com)... 185.199.108.133, 185.199.109.133, 185.199.110.133, ...\n",
      "Connecting to raw.githubusercontent.com (raw.githubusercontent.com)|185.199.108.133|:443... connected.\n",
      "HTTP request sent, awaiting response... 200 OK\n",
      "Length: 2206 (2.2K) [text/plain]\n",
      "Saving to: ‘feature_engineering.py’\n",
      "\n",
      "feature_engineering 100%[===================>]   2.15K  --.-KB/s    in 0s      \n",
      "\n",
      "2023-07-03 17:14:36 (31.5 MB/s) - ‘feature_engineering.py’ saved [2206/2206]\n",
      "\n",
      "--2023-07-03 17:14:36--  https://raw.githubusercontent.com/andreaaraldo/machine-learning-for-networks/master/course_library/visualization.py\n",
      "Resolving raw.githubusercontent.com (raw.githubusercontent.com)... 185.199.108.133, 185.199.109.133, 185.199.110.133, ...\n",
      "Connecting to raw.githubusercontent.com (raw.githubusercontent.com)|185.199.108.133|:443... connected.\n",
      "HTTP request sent, awaiting response... 200 OK\n",
      "Length: 13023 (13K) [text/plain]\n",
      "Saving to: ‘visualization.py’\n",
      "\n",
      "visualization.py    100%[===================>]  12.72K  --.-KB/s    in 0.001s  \n",
      "\n",
      "2023-07-03 17:14:36 (21.7 MB/s) - ‘visualization.py’ saved [13023/13023]\n",
      "\n"
     ]
    }
   ],
   "source": [
    "# From the course library\n",
    "! wget https://raw.githubusercontent.com/andreaaraldo/machine-learning-for-networks/master/course_library/feature_engineering.py\n",
    "! wget https://raw.githubusercontent.com/andreaaraldo/machine-learning-for-networks/master/course_library/visualization.py\n",
    "\n",
    "#libraries\n",
    "import feature_engineering\n",
    "import visualization\n",
    "import pandas as pd # For dataframes (tables)\n",
    "import numpy as np # For numerical operations\n",
    "import math\n",
    "import matplotlib.pyplot as plt # For plots\n",
    "import os # To import external python files\n",
    "import sys# To import external python files\n",
    "import sklearn\n",
    "import missingno as msno\n",
    "from pandas.plotting import scatter_matrix"
   ]
  },
  {
   "cell_type": "code",
   "execution_count": null,
   "metadata": {
    "colab": {
     "base_uri": "https://localhost:8080/"
    },
    "executionInfo": {
     "elapsed": 19648,
     "status": "ok",
     "timestamp": 1688404499632,
     "user": {
      "displayName": "Haga RANDRIANALY",
      "userId": "06151103051613160384"
     },
     "user_tz": -120
    },
    "id": "zo5dzHxRDTDr",
    "outputId": "ce920d85-974b-4628-d5cc-d63ee870747c"
   },
   "outputs": [
    {
     "name": "stdout",
     "output_type": "stream",
     "text": [
      "Collecting GitPython\n",
      "  Downloading GitPython-3.1.31-py3-none-any.whl (184 kB)\n",
      "\u001b[?25l     \u001b[90m━━━━━━━━━━━━━━━━━━━━━━━━━━━━━━━━━━━━━━━━\u001b[0m \u001b[32m0.0/184.3 kB\u001b[0m \u001b[31m?\u001b[0m eta \u001b[36m-:--:--\u001b[0m\r",
      "\u001b[2K     \u001b[91m━━━━━━━━━━━━━━━━━━━━━━━━━━━━━━━━━━━━━━\u001b[0m\u001b[91m╸\u001b[0m \u001b[32m184.3/184.3 kB\u001b[0m \u001b[31m5.9 MB/s\u001b[0m eta \u001b[36m0:00:01\u001b[0m\r",
      "\u001b[2K     \u001b[90m━━━━━━━━━━━━━━━━━━━━━━━━━━━━━━━━━━━━━━━\u001b[0m \u001b[32m184.3/184.3 kB\u001b[0m \u001b[31m4.6 MB/s\u001b[0m eta \u001b[36m0:00:00\u001b[0m\n",
      "\u001b[?25hCollecting gitdb<5,>=4.0.1 (from GitPython)\n",
      "  Downloading gitdb-4.0.10-py3-none-any.whl (62 kB)\n",
      "\u001b[?25l     \u001b[90m━━━━━━━━━━━━━━━━━━━━━━━━━━━━━━━━━━━━━━━━\u001b[0m \u001b[32m0.0/62.7 kB\u001b[0m \u001b[31m?\u001b[0m eta \u001b[36m-:--:--\u001b[0m\r",
      "\u001b[2K     \u001b[90m━━━━━━━━━━━━━━━━━━━━━━━━━━━━━━━━━━━━━━━━\u001b[0m \u001b[32m62.7/62.7 kB\u001b[0m \u001b[31m7.1 MB/s\u001b[0m eta \u001b[36m0:00:00\u001b[0m\n",
      "\u001b[?25hCollecting smmap<6,>=3.0.1 (from gitdb<5,>=4.0.1->GitPython)\n",
      "  Downloading smmap-5.0.0-py3-none-any.whl (24 kB)\n",
      "Installing collected packages: smmap, gitdb, GitPython\n",
      "Successfully installed GitPython-3.1.31 gitdb-4.0.10 smmap-5.0.0\n",
      "Cloning into 'ML_for_networks'...\n",
      "remote: Enumerating objects: 242, done.\u001b[K\n",
      "remote: Counting objects: 100% (242/242), done.\u001b[K\n",
      "remote: Compressing objects: 100% (204/204), done.\u001b[K\n",
      "remote: Total 242 (delta 94), reused 157 (delta 20), pack-reused 0\u001b[K\n",
      "Receiving objects: 100% (242/242), 11.54 MiB | 4.08 MiB/s, done.\n",
      "Resolving deltas: 100% (94/94), done.\n"
     ]
    }
   ],
   "source": [
    "#dataset\n",
    "!pip install GitPython\n",
    "!git clone https://github.com/hrandrIAga/ChallengeData_SNCFTransilien.git\n",
    "dataframe = pd.read_csv('/content/ChallengeData_SNCFTransilien/NET4550_Haga_Pierre_Adam/Datasets/Datasets_new/dataframe_train.csv')\n",
    "validation = pd.read_csv('/content/ChallengeData_SNCFTransilien/NET4550_Haga_Pierre_Adam/Datasets/Datasets_new/dataframe_validation.csv')"
   ]
  },
  {
   "cell_type": "markdown",
   "metadata": {
    "id": "MlBl2ubxDcl7"
   },
   "source": [
    "## I. Exploration préliminaire des exemples avec absence de nan\n",
    "\n",
    "On construit le modèle pour les exemples ne contenant aucun nan\n",
    "\n",
    "Valable pour les trains n'étant pas Premiers, deuxièmes ou troisièmes au départ de la gare S :\n",
    "> C'est à dire :\n",
    "> * p1q0 != Nan $\\bigcap$ p2q0 != Nan $\\bigcap$ p3q0 != Nan\n",
    "\n",
    "\n",
    "Valable pour les gares n'étant pas les Premères, deuxièmesou troisièmes du trajet du train k :\n",
    "> C'est à dire :\n",
    "> * p0q1 != Nan $\\bigcap$ p0q2 != Nan $\\bigcap$ p0q3 != Nan\n"
   ]
  },
  {
   "cell_type": "code",
   "execution_count": null,
   "metadata": {
    "colab": {
     "base_uri": "https://localhost:8080/"
    },
    "executionInfo": {
     "elapsed": 12,
     "status": "ok",
     "timestamp": 1688404499633,
     "user": {
      "displayName": "Haga RANDRIANALY",
      "userId": "06151103051613160384"
     },
     "user_tz": -120
    },
    "id": "5zS0BWp_FUKn",
    "outputId": "a4dafcc4-a723-4064-a31e-224bfbe8cae0"
   },
   "outputs": [
    {
     "data": {
      "text/plain": [
       "(14264, 112)"
      ]
     },
     "execution_count": 3,
     "metadata": {},
     "output_type": "execute_result"
    }
   ],
   "source": [
    "df_oooooo = dataframe.loc[dataframe['filtre'] == 'oooooo'].copy()\n",
    "df_oooooo.shape"
   ]
  },
  {
   "cell_type": "markdown",
   "metadata": {
    "id": "iKSTPQKrG4l3"
   },
   "source": [
    "### A/ Boxplot"
   ]
  },
  {
   "cell_type": "code",
   "execution_count": null,
   "metadata": {
    "colab": {
     "base_uri": "https://localhost:8080/",
     "height": 447
    },
    "executionInfo": {
     "elapsed": 591,
     "status": "ok",
     "timestamp": 1688404500216,
     "user": {
      "displayName": "Haga RANDRIANALY",
      "userId": "06151103051613160384"
     },
     "user_tz": -120
    },
    "id": "kTRtJxPIG7eG",
    "outputId": "9aacc2f4-55b3-452e-a8dd-c9087bf0dd46"
   },
   "outputs": [
    {
     "data": {
      "text/plain": [
       "<Axes: >"
      ]
     },
     "execution_count": 4,
     "metadata": {},
     "output_type": "execute_result"
    },
    {
     "data": {
      "image/png": "[encoded data removed]",
      "text/plain": [
       "<Figure size 640x480 with 1 Axes>"
      ]
     },
     "metadata": {},
     "output_type": "display_data"
    }
   ],
   "source": [
    "df_oooooo.boxplot(column=['p1q0', 'p2q0','p3q0'])"
   ]
  },
  {
   "cell_type": "code",
   "execution_count": null,
   "metadata": {
    "colab": {
     "base_uri": "https://localhost:8080/",
     "height": 447
    },
    "executionInfo": {
     "elapsed": 12,
     "status": "ok",
     "timestamp": 1688404500217,
     "user": {
      "displayName": "Haga RANDRIANALY",
      "userId": "06151103051613160384"
     },
     "user_tz": -120
    },
    "id": "2-kFCq2IHA5S",
    "outputId": "eaaedb96-6126-48fc-abdb-54afe42c9d6c"
   },
   "outputs": [
    {
     "data": {
      "text/plain": [
       "<Axes: >"
      ]
     },
     "execution_count": 5,
     "metadata": {},
     "output_type": "execute_result"
    },
    {
     "data": {
      "image/png": "[encoded data removed]",
      "text/plain": [
       "<Figure size 640x480 with 1 Axes>"
      ]
     },
     "metadata": {},
     "output_type": "display_data"
    }
   ],
   "source": [
    "df_oooooo.boxplot(column=['p1q0', 'p2q0','p3q0'])"
   ]
  },
  {
   "cell_type": "markdown",
   "metadata": {
    "id": "EYCIHtOWHGnF"
   },
   "source": [
    "### B/ Histogramme"
   ]
  },
  {
   "cell_type": "code",
   "execution_count": null,
   "metadata": {
    "colab": {
     "base_uri": "https://localhost:8080/",
     "height": 289
    },
    "executionInfo": {
     "elapsed": 591,
     "status": "ok",
     "timestamp": 1688404500800,
     "user": {
      "displayName": "Haga RANDRIANALY",
      "userId": "06151103051613160384"
     },
     "user_tz": -120
    },
    "id": "ZvgnwHYyHpAi",
    "outputId": "803a0e95-c4ed-4532-dc77-608f3062d39e"
   },
   "outputs": [
    {
     "data": {
      "text/plain": [
       "Text(0.5, 1.0, 'p3q0')"
      ]
     },
     "execution_count": 6,
     "metadata": {},
     "output_type": "execute_result"
    },
    {
     "data": {
      "image/png": "[encoded data removed]",
      "text/plain": [
       "<Figure size 900x300 with 3 Axes>"
      ]
     },
     "metadata": {},
     "output_type": "display_data"
    }
   ],
   "source": [
    "fig, axes = plt.subplots(nrows=1, ncols=3, figsize=(9, 3))\n",
    "\n",
    "df_oooooo['p1q0'].plot(kind='hist', ax=axes[0])\n",
    "axes[0].set_title('p1q0')\n",
    "\n",
    "df_oooooo['p2q0'].plot(kind='hist', ax=axes[1])\n",
    "axes[0].set_title('p2q0')\n",
    "\n",
    "df_oooooo['p3q0'].plot(kind='hist', ax=axes[2])\n",
    "axes[0].set_title('p3q0')"
   ]
  },
  {
   "cell_type": "markdown",
   "metadata": {
    "id": "nmQuqBojHv7d"
   },
   "source": [
    "On constate que la répartition est semblable à une loi normale --> a priori pas de transformation nécessaire"
   ]
  },
  {
   "cell_type": "code",
   "execution_count": null,
   "metadata": {
    "colab": {
     "base_uri": "https://localhost:8080/",
     "height": 289
    },
    "executionInfo": {
     "elapsed": 1515,
     "status": "ok",
     "timestamp": 1688404502309,
     "user": {
      "displayName": "Haga RANDRIANALY",
      "userId": "06151103051613160384"
     },
     "user_tz": -120
    },
    "id": "QNqLqu7nH5oi",
    "outputId": "4c0bac6e-1e11-49fc-d645-ae14f1863cfa"
   },
   "outputs": [
    {
     "data": {
      "text/plain": [
       "Text(0.5, 1.0, 'p0q3')"
      ]
     },
     "execution_count": 7,
     "metadata": {},
     "output_type": "execute_result"
    },
    {
     "data": {
      "image/png": "[encoded data removed]",
      "text/plain": [
       "<Figure size 900x300 with 3 Axes>"
      ]
     },
     "metadata": {},
     "output_type": "display_data"
    }
   ],
   "source": [
    "fig, axes = plt.subplots(nrows=1, ncols=3, figsize=(9, 3))\n",
    "\n",
    "df_oooooo['p0q1'].plot(kind='hist', ax=axes[0])\n",
    "axes[0].set_title('p0q1')\n",
    "\n",
    "df_oooooo['p0q2'].plot(kind='hist', ax=axes[1])\n",
    "axes[0].set_title('p0q2')\n",
    "\n",
    "df_oooooo['p0q3'].plot(kind='hist', ax=axes[2])\n",
    "axes[0].set_title('p0q3')"
   ]
  },
  {
   "cell_type": "markdown",
   "metadata": {
    "id": "zYYXKzE8IEmR"
   },
   "source": [
    "On constate que la répartition est semblable à une loi normale --> a priori pas de transformation nécessaire"
   ]
  },
  {
   "cell_type": "markdown",
   "metadata": {
    "id": "CFDNRxTMI7zp"
   },
   "source": [
    "### C/ Corrélation"
   ]
  },
  {
   "cell_type": "code",
   "execution_count": null,
   "metadata": {
    "colab": {
     "base_uri": "https://localhost:8080/"
    },
    "executionInfo": {
     "elapsed": 13,
     "status": "ok",
     "timestamp": 1688404502310,
     "user": {
      "displayName": "Haga RANDRIANALY",
      "userId": "06151103051613160384"
     },
     "user_tz": -120
    },
    "id": "SYVE5a5XIFSd",
    "outputId": "1d17728a-a16c-4221-d173-37579eebb0e7"
   },
   "outputs": [
    {
     "data": {
      "text/plain": [
       "p0q0    1.00\n",
       "p3q0    0.61\n",
       "p2q0    0.50\n",
       "p1q0    0.48\n",
       "Name: p0q0, dtype: float64"
      ]
     },
     "execution_count": 8,
     "metadata": {},
     "output_type": "execute_result"
    }
   ],
   "source": [
    "corr_piq0 = df_oooooo[['p1q0','p2q0', 'p3q0', 'p0q0']]\n",
    "features_corr = \\\n",
    "        feature_engineering.get_features_correlated_to_target(\n",
    "                corr_piq0, target_feature='p0q0')\n",
    "\n",
    "features_corr[:]"
   ]
  },
  {
   "cell_type": "markdown",
   "metadata": {
    "id": "NHkLU0KCJHAN"
   },
   "source": [
    "* Comme on peut s'y attendre, il y a une corrélation linéaire assez importante entre les piq0 et la variable à expliquer à (p0q0)\n",
    "*  Cependant, il est un peu étonnant que la corrélation soit inversement proportionnelle à l'ordre de passage du train."
   ]
  },
  {
   "cell_type": "code",
   "execution_count": null,
   "metadata": {
    "colab": {
     "base_uri": "https://localhost:8080/"
    },
    "executionInfo": {
     "elapsed": 11,
     "status": "ok",
     "timestamp": 1688404502311,
     "user": {
      "displayName": "Haga RANDRIANALY",
      "userId": "06151103051613160384"
     },
     "user_tz": -120
    },
    "id": "xzyDPsG0JZVR",
    "outputId": "268db8c4-56db-49aa-bd83-123dbbcefde3"
   },
   "outputs": [
    {
     "data": {
      "text/plain": [
       "p0q0    1.00\n",
       "p0q2    0.85\n",
       "p0q1    0.82\n",
       "p0q3    0.76\n",
       "Name: p0q0, dtype: float64"
      ]
     },
     "execution_count": 9,
     "metadata": {},
     "output_type": "execute_result"
    }
   ],
   "source": [
    "corr_p0qj = df_oooooo[['p0q1','p0q2', 'p0q3', 'p0q0']]\n",
    "features_corr = \\\n",
    "        feature_engineering.get_features_correlated_to_target(\n",
    "                corr_p0qj, target_feature='p0q0')\n",
    "\n",
    "features_corr[:]"
   ]
  },
  {
   "cell_type": "markdown",
   "metadata": {
    "id": "TQ5jQmeWKbNj"
   },
   "source": [
    "* Comme on peut s'y attendre, il y a une corrélation linéaire assez importante entre les p0qj et la variable à expliquer à (p0q0)\n",
    "* Comme on peut s'y attendre, la corrélation linéaire est plus importante pour la ligne de train (les gens restent ou déscendent) que en fixant la gare (différentes lignes passent dans une gare donc les personnes sur le quai se répartissent dans les différentes lignes de manière aléatoire si on se place d'un point de vu d'obserrvateur extérieur)\n",
    "*  Cependant, il est très étonnant que p0q2 soit davantage corrélé à la variable à expliquer que p0q1\n",
    "\n",
    "> Une exploration plus poussée du dataset nous a fait remarqué qu'il y a eu un problème dans le stockage des données [(voir slides ajouter lien)](www.google.com), et que pour la majorité des exemples, les valeurs des colonnes p0qj ont été interverties."
   ]
  },
  {
   "cell_type": "markdown",
   "metadata": {
    "id": "EDbB2oSRLojX"
   },
   "source": [
    "## II. Correction des erreurs du dataset\n",
    "\n",
    "Nous avons étudié et listé l'ensemble des erreurs d'interversion pour le stockage automatisé des p0qj à l'aide d'excel.\n",
    "Ce qui nous permet de modifier le dataset correctement :\n"
   ]
  },
  {
   "cell_type": "code",
   "execution_count": null,
   "metadata": {
    "colab": {
     "base_uri": "https://localhost:8080/"
    },
    "executionInfo": {
     "elapsed": 10,
     "status": "ok",
     "timestamp": 1688404502312,
     "user": {
      "displayName": "Haga RANDRIANALY",
      "userId": "06151103051613160384"
     },
     "user_tz": -120
    },
    "id": "k1vCqSKJOV-c",
    "outputId": "d14ad792-4b4f-4a54-da2c-52c05f52e38a"
   },
   "outputs": [
    {
     "data": {
      "text/plain": [
       "(25160, 112)"
      ]
     },
     "execution_count": 10,
     "metadata": {},
     "output_type": "execute_result"
    }
   ],
   "source": [
    "dataframe.shape"
   ]
  },
  {
   "cell_type": "code",
   "execution_count": null,
   "metadata": {
    "id": "aXGifDE8WBZX"
   },
   "outputs": [],
   "source": [
    "#df_oooooo = df_oooooo.assign(t0s1='', t0s2='', t0s3='')\n"
   ]
  },
  {
   "cell_type": "code",
   "execution_count": null,
   "metadata": {
    "id": "boDsARd5WuSs"
   },
   "outputs": [],
   "source": [
    "#df_oooooo = df_oooooo.assign(t0s0='')"
   ]
  },
  {
   "cell_type": "code",
   "execution_count": null,
   "metadata": {
    "id": "WYqmEYQU5A__"
   },
   "outputs": [],
   "source": [
    "dataframe[['t0s1']] = ''\n",
    "dataframe[['t0s2']] = ''\n",
    "dataframe[['t0s3']] = ''"
   ]
  },
  {
   "cell_type": "code",
   "execution_count": null,
   "metadata": {
    "id": "Za2FneNqJiY1"
   },
   "outputs": [],
   "source": [
    "validation[['t0s1']] = ''\n",
    "validation[['t0s2']] = ''\n",
    "validation[['t0s3']] = ''"
   ]
  },
  {
   "cell_type": "markdown",
   "metadata": {
    "id": "OCL1KddPUDWv"
   },
   "source": [
    "##Train 1 à 11"
   ]
  },
  {
   "cell_type": "code",
   "execution_count": null,
   "metadata": {
    "id": "3SWby0MNXiJv"
   },
   "outputs": [],
   "source": [
    "import pandas as pd\n",
    "\n",
    "# Vérification des conditions et mise à jour de la colonne 00\n",
    "for index, row in dataframe.iterrows():\n",
    "    if 1 <= row['train'] <= 11:\n",
    "        if row['station'] == 'AD':\n",
    "                dataframe.loc[index, 't0s1'] = dataframe.loc[index, 'p0q1']\n",
    "                dataframe.loc[index, 't0s2'] = dataframe.loc[index, 'p0q2']\n",
    "                dataframe.loc[index, 't0s3'] = dataframe.loc[index, 'p0q3']\n",
    "        elif row['station'] == 'AI':\n",
    "                dataframe.loc[index, 't0s1'] = dataframe.loc[index, 'p0q2']\n",
    "                dataframe.loc[index, 't0s2'] = dataframe.loc[index, 'p0q1']\n",
    "                dataframe.loc[index, 't0s3'] = dataframe.loc[index, 'p0q3']\n",
    "        elif row['station'] == 'AJ':\n",
    "                dataframe.loc[index, 't0s1'] = dataframe.loc[index, 'p0q2']\n",
    "                dataframe.loc[index, 't0s2'] = dataframe.loc[index, 'p0q3']\n",
    "                dataframe.loc[index, 't0s3'] = dataframe.loc[index, 'p0q1']\n",
    "        elif row['station'] == 'AK':\n",
    "                dataframe.loc[index, 't0s1'] = dataframe.loc[index, 'p0q1']\n",
    "                dataframe.loc[index, 't0s2'] = dataframe.loc[index, 'p0q2']\n",
    "                dataframe.loc[index, 't0s3'] = dataframe.loc[index, 'p0q3']\n",
    "        elif row['station'] == 'AM':\n",
    "                dataframe.loc[index, 't0s1'] = dataframe.loc[index, 'p0q1']\n",
    "                dataframe.loc[index, 't0s2'] = dataframe.loc[index, 'p0q2']\n",
    "                dataframe.loc[index, 't0s3'] = dataframe.loc[index, 'p0q3']\n",
    "        elif row['station'] == 'AT':\n",
    "                dataframe.loc[index, 't0s1'] = dataframe.loc[index, 'p0q1']\n",
    "                dataframe.loc[index, 't0s2'] = dataframe.loc[index, 'p0q3']\n",
    "                dataframe.loc[index, 't0s3'] = dataframe.loc[index, 'p0q2']\n",
    "        elif row['station'] == 'AW':\n",
    "                dataframe.loc[index, 't0s1'] = dataframe.loc[index, 'p0q3']\n",
    "                dataframe.loc[index, 't0s2'] = dataframe.loc[index, 'p0q2']\n",
    "                dataframe.loc[index, 't0s3'] = dataframe.loc[index, 'p0q1']\n",
    "        elif row['station'] == 'AX':\n",
    "                dataframe.loc[index, 't0s1'] = dataframe.loc[index, 'p0q1']\n",
    "                dataframe.loc[index, 't0s2'] = dataframe.loc[index, 'p0q2']\n",
    "                dataframe.loc[index, 't0s3'] = dataframe.loc[index, 'p0q3']\n",
    "        elif row['station'] == 'BB':\n",
    "                dataframe.loc[index, 't0s1'] = dataframe.loc[index, 'p0q2']\n",
    "                dataframe.loc[index, 't0s2'] = dataframe.loc[index, 'p0q1']\n",
    "                dataframe.loc[index, 't0s3'] = dataframe.loc[index, 'p0q3']\n",
    "        elif row['station'] == 'BD':\n",
    "                dataframe.loc[index, 't0s1'] = dataframe.loc[index, 'p0q1']\n",
    "                dataframe.loc[index, 't0s2'] = dataframe.loc[index, 'p0q2']\n",
    "                dataframe.loc[index, 't0s3'] = dataframe.loc[index, 'p0q3']\n",
    "        elif row['station'] == 'BE':\n",
    "                dataframe.loc[index, 't0s1'] = dataframe.loc[index, 'p0q2']\n",
    "                dataframe.loc[index, 't0s2'] = dataframe.loc[index, 'p0q1']\n",
    "                dataframe.loc[index, 't0s3'] = dataframe.loc[index, 'p0q3']\n",
    "        else:\n",
    "                dataframe.loc[index, 't0s1'] = dataframe.loc[index, 'p0q1']\n",
    "                dataframe.loc[index, 't0s2'] = dataframe.loc[index, 'p0q2']\n",
    "                dataframe.loc[index, 't0s3'] = dataframe.loc[index, 'p0q3']\n",
    "\n"
   ]
  },
  {
   "cell_type": "code",
   "execution_count": null,
   "metadata": {
    "id": "RTJXI5pD-y7E"
   },
   "outputs": [],
   "source": [
    "\n",
    "\n",
    "# Vérification des conditions et mise à jour de la colonne 00\n",
    "for index, row in validation.iterrows():\n",
    "    if 1 <= row['train'] <= 11:\n",
    "        if row['station'] == 'AD':\n",
    "                validation.loc[index, 't0s1'] = validation.loc[index, 'p0q1']\n",
    "                validation.loc[index, 't0s2'] = validation.loc[index, 'p0q2']\n",
    "                validation.loc[index, 't0s3'] = validation.loc[index, 'p0q3']\n",
    "        elif row['station'] == 'AI':\n",
    "                validation.loc[index, 't0s1'] = validation.loc[index, 'p0q2']\n",
    "                validation.loc[index, 't0s2'] = validation.loc[index, 'p0q1']\n",
    "                validation.loc[index, 't0s3'] = validation.loc[index, 'p0q3']\n",
    "        elif row['station'] == 'AJ':\n",
    "                validation.loc[index, 't0s1'] = validation.loc[index, 'p0q2']\n",
    "                validation.loc[index, 't0s2'] = validation.loc[index, 'p0q3']\n",
    "                validation.loc[index, 't0s3'] = validation.loc[index, 'p0q1']\n",
    "        elif row['station'] == 'AK':\n",
    "                validation.loc[index, 't0s1'] = validation.loc[index, 'p0q1']\n",
    "                validation.loc[index, 't0s2'] = validation.loc[index, 'p0q2']\n",
    "                validation.loc[index, 't0s3'] = validation.loc[index, 'p0q3']\n",
    "        elif row['station'] == 'AM':\n",
    "                validation.loc[index, 't0s1'] = validation.loc[index, 'p0q1']\n",
    "                validation.loc[index, 't0s2'] = validation.loc[index, 'p0q2']\n",
    "                validation.loc[index, 't0s3'] = validation.loc[index, 'p0q3']\n",
    "        elif row['station'] == 'AT':\n",
    "                validation.loc[index, 't0s1'] = validation.loc[index, 'p0q1']\n",
    "                validation.loc[index, 't0s2'] = validation.loc[index, 'p0q3']\n",
    "                validation.loc[index, 't0s3'] = validation.loc[index, 'p0q2']\n",
    "        elif row['station'] == 'AW':\n",
    "                validation.loc[index, 't0s1'] = validation.loc[index, 'p0q3']\n",
    "                validation.loc[index, 't0s2'] = validation.loc[index, 'p0q2']\n",
    "                validation.loc[index, 't0s3'] = validation.loc[index, 'p0q1']\n",
    "        elif row['station'] == 'AX':\n",
    "                validation.loc[index, 't0s1'] = validation.loc[index, 'p0q1']\n",
    "                validation.loc[index, 't0s2'] = validation.loc[index, 'p0q2']\n",
    "                validation.loc[index, 't0s3'] = validation.loc[index, 'p0q3']\n",
    "        elif row['station'] == 'BB':\n",
    "                validation.loc[index, 't0s1'] = validation.loc[index, 'p0q2']\n",
    "                validation.loc[index, 't0s2'] = validation.loc[index, 'p0q1']\n",
    "                validation.loc[index, 't0s3'] = validation.loc[index, 'p0q3']\n",
    "        elif row['station'] == 'BD':\n",
    "                validation.loc[index, 't0s1'] = validation.loc[index, 'p0q1']\n",
    "                validation.loc[index, 't0s2'] = validation.loc[index, 'p0q2']\n",
    "                validation.loc[index, 't0s3'] = validation.loc[index, 'p0q3']\n",
    "        elif row['station'] == 'BE':\n",
    "                validation.loc[index, 't0s1'] = validation.loc[index, 'p0q2']\n",
    "                validation.loc[index, 't0s2'] = validation.loc[index, 'p0q1']\n",
    "                validation.loc[index, 't0s3'] = validation.loc[index, 'p0q3']\n",
    "        else:\n",
    "                validation.loc[index, 't0s1'] = validation.loc[index, 'p0q1']\n",
    "                validation.loc[index, 't0s2'] = validation.loc[index, 'p0q2']\n",
    "                validation.loc[index, 't0s3'] = validation.loc[index, 'p0q3']\n"
   ]
  },
  {
   "cell_type": "markdown",
   "metadata": {
    "id": "-_ZfOEn3UIND"
   },
   "source": [
    "##Train 12 à 21"
   ]
  },
  {
   "cell_type": "code",
   "execution_count": null,
   "metadata": {
    "id": "8_-dG7j4aNyn"
   },
   "outputs": [],
   "source": [
    "import pandas as pd\n",
    "\n",
    "# Vérification des conditions et mise à jour de la colonne 00\n",
    "for index, row in dataframe.iterrows():\n",
    "    if 12 <= row['train'] <= 21:\n",
    "        if row['station'] == 'AE':\n",
    "                dataframe.loc[index, 't0s1'] = dataframe.loc[index, 'p0q1']\n",
    "                dataframe.loc[index, 't0s2'] = dataframe.loc[index, 'p0q2']\n",
    "                dataframe.loc[index, 't0s3'] = dataframe.loc[index, 'p0q3']\n",
    "        elif row['station'] == 'AI':\n",
    "                dataframe.loc[index, 't0s1'] = dataframe.loc[index, 'p0q1']\n",
    "                dataframe.loc[index, 't0s2'] = dataframe.loc[index, 'p0q2']\n",
    "                dataframe.loc[index, 't0s3'] = dataframe.loc[index, 'p0q3']\n",
    "        elif row['station'] == 'AJ':\n",
    "                dataframe.loc[index, 't0s1'] = dataframe.loc[index, 'p0q3']\n",
    "                dataframe.loc[index, 't0s2'] = dataframe.loc[index, 'p0q2']\n",
    "                dataframe.loc[index, 't0s3'] = dataframe.loc[index, 'p0q1']\n",
    "        elif row['station'] == 'AK':\n",
    "                dataframe.loc[index, 't0s1'] = dataframe.loc[index, 'p0q1']\n",
    "                dataframe.loc[index, 't0s2'] = dataframe.loc[index, 'p0q2']\n",
    "                dataframe.loc[index, 't0s3'] = dataframe.loc[index, 'p0q3']\n",
    "        elif row['station'] == 'AV':\n",
    "                dataframe.loc[index, 't0s1'] = dataframe.loc[index, 'p0q1']\n",
    "                dataframe.loc[index, 't0s2'] = dataframe.loc[index, 'p0q2']\n",
    "                dataframe.loc[index, 't0s3'] = dataframe.loc[index, 'p0q3']\n",
    "        elif row['station'] == 'AL':\n",
    "                dataframe.loc[index, 't0s1'] = dataframe.loc[index, 'p0q1']\n",
    "                dataframe.loc[index, 't0s2'] = dataframe.loc[index, 'p0q2']\n",
    "                dataframe.loc[index, 't0s3'] = dataframe.loc[index, 'p0q3']\n",
    "        elif row['station'] == 'AO':\n",
    "                dataframe.loc[index, 't0s1'] = dataframe.loc[index, 'p0q1']\n",
    "                dataframe.loc[index, 't0s2'] = dataframe.loc[index, 'p0q2']\n",
    "                dataframe.loc[index, 't0s3'] = dataframe.loc[index, 'p0q3']\n",
    "        elif row['station'] == 'AQ':\n",
    "                dataframe.loc[index, 't0s1'] = dataframe.loc[index, 'p0q2']\n",
    "                dataframe.loc[index, 't0s2'] = dataframe.loc[index, 'p0q1']\n",
    "                dataframe.loc[index, 't0s3'] = dataframe.loc[index, 'p0q3']\n",
    "        elif row['station'] == 'BB':\n",
    "                dataframe.loc[index, 't0s1'] = dataframe.loc[index, 'p0q2']\n",
    "                dataframe.loc[index, 't0s2'] = dataframe.loc[index, 'p0q3']\n",
    "                dataframe.loc[index, 't0s3'] = dataframe.loc[index, 'p0q1']\n",
    "        elif row['station'] == 'BC':\n",
    "                dataframe.loc[index, 't0s1'] = dataframe.loc[index, 'p0q1']\n",
    "                dataframe.loc[index, 't0s2'] = dataframe.loc[index, 'p0q2']\n",
    "                dataframe.loc[index, 't0s3'] = dataframe.loc[index, 'p0q3']\n",
    "        else:\n",
    "                dataframe.loc[index, 't0s1'] = dataframe.loc[index, 'p0q1']\n",
    "                dataframe.loc[index, 't0s2'] = dataframe.loc[index, 'p0q2']\n",
    "                dataframe.loc[index, 't0s3'] = dataframe.loc[index, 'p0q3']"
   ]
  },
  {
   "cell_type": "code",
   "execution_count": null,
   "metadata": {
    "id": "cAR_IksB-kE1"
   },
   "outputs": [],
   "source": [
    "# Vérification des conditions et mise à jour de la colonne 00\n",
    "for index, row in validation.iterrows():\n",
    "    if 12 <= row['train'] <= 21:\n",
    "        if row['station'] == 'AE':\n",
    "                validation.loc[index, 't0s1'] = validation.loc[index, 'p0q1']\n",
    "                validation.loc[index, 't0s2'] = validation.loc[index, 'p0q2']\n",
    "                validation.loc[index, 't0s3'] = validation.loc[index, 'p0q3']\n",
    "        elif row['station'] == 'AI':\n",
    "                validation.loc[index, 't0s1'] = validation.loc[index, 'p0q1']\n",
    "                validation.loc[index, 't0s2'] = validation.loc[index, 'p0q2']\n",
    "                validation.loc[index, 't0s3'] = validation.loc[index, 'p0q3']\n",
    "        elif row['station'] == 'AJ':\n",
    "                validation.loc[index, 't0s1'] = validation.loc[index, 'p0q3']\n",
    "                validation.loc[index, 't0s2'] = validation.loc[index, 'p0q2']\n",
    "                validation.loc[index, 't0s3'] = validation.loc[index, 'p0q1']\n",
    "        elif row['station'] == 'AK':\n",
    "                validation.loc[index, 't0s1'] = validation.loc[index, 'p0q1']\n",
    "                validation.loc[index, 't0s2'] = validation.loc[index, 'p0q2']\n",
    "                validation.loc[index, 't0s3'] = validation.loc[index, 'p0q3']\n",
    "        elif row['station'] == 'AV':\n",
    "                validation.loc[index, 't0s1'] = validation.loc[index, 'p0q1']\n",
    "                validation.loc[index, 't0s2'] = validation.loc[index, 'p0q2']\n",
    "                validation.loc[index, 't0s3'] = validation.loc[index, 'p0q3']\n",
    "        elif row['station'] == 'AL':\n",
    "                validation.loc[index, 't0s1'] = validation.loc[index, 'p0q1']\n",
    "                validation.loc[index, 't0s2'] = validation.loc[index, 'p0q2']\n",
    "                validation.loc[index, 't0s3'] = validation.loc[index, 'p0q3']\n",
    "        elif row['station'] == 'AO':\n",
    "                validation.loc[index, 't0s1'] = validation.loc[index, 'p0q1']\n",
    "                validation.loc[index, 't0s2'] = validation.loc[index, 'p0q2']\n",
    "                validation.loc[index, 't0s3'] = validation.loc[index, 'p0q3']\n",
    "        elif row['station'] == 'AQ':\n",
    "                validation.loc[index, 't0s1'] = validation.loc[index, 'p0q2']\n",
    "                validation.loc[index, 't0s2'] = validation.loc[index, 'p0q1']\n",
    "                validation.loc[index, 't0s3'] = validation.loc[index, 'p0q3']\n",
    "        elif row['station'] == 'BB':\n",
    "                validation.loc[index, 't0s1'] = validation.loc[index, 'p0q2']\n",
    "                validation.loc[index, 't0s2'] = validation.loc[index, 'p0q3']\n",
    "                validation.loc[index, 't0s3'] = validation.loc[index, 'p0q1']\n",
    "        elif row['station'] == 'BC':\n",
    "                validation.loc[index, 't0s1'] = validation.loc[index, 'p0q1']\n",
    "                validation.loc[index, 't0s2'] = validation.loc[index, 'p0q2']\n",
    "                validation.loc[index, 't0s3'] = validation.loc[index, 'p0q3']\n",
    "        else:\n",
    "                validation.loc[index, 't0s1'] = validation.loc[index, 'p0q1']\n",
    "                validation.loc[index, 't0s2'] = validation.loc[index, 'p0q2']\n",
    "                validation.loc[index, 't0s3'] = validation.loc[index, 'p0q3']\n"
   ]
  },
  {
   "cell_type": "markdown",
   "metadata": {
    "id": "6NvcVMQTUz3_"
   },
   "source": [
    "##Train 22 à 33"
   ]
  },
  {
   "cell_type": "code",
   "execution_count": null,
   "metadata": {
    "id": "CfDoUrp0UtBl"
   },
   "outputs": [],
   "source": [
    "import pandas as pd\n",
    "\n",
    "# Vérification des conditions et mise à jour de la colonne 00\n",
    "for index, row in dataframe.iterrows():\n",
    "    if 22 <= row['train'] <= 33:\n",
    "        if row['station'] == 'AB':\n",
    "                dataframe.loc[index, 't0s1'] = dataframe.loc[index, 'p0q1']\n",
    "                dataframe.loc[index, 't0s2'] = dataframe.loc[index, 'p0q2']\n",
    "                dataframe.loc[index, 't0s3'] = dataframe.loc[index, 'p0q3']\n",
    "        elif row['station'] == 'AI':\n",
    "                dataframe.loc[index, 't0s1'] = dataframe.loc[index, 'p0q1']\n",
    "                dataframe.loc[index, 't0s2'] = dataframe.loc[index, 'p0q2']\n",
    "                dataframe.loc[index, 't0s3'] = dataframe.loc[index, 'p0q3']\n",
    "        elif row['station'] == 'AJ':\n",
    "                dataframe.loc[index, 't0s1'] = dataframe.loc[index, 'p0q3']\n",
    "                dataframe.loc[index, 't0s2'] = dataframe.loc[index, 'p0q1']\n",
    "                dataframe.loc[index, 't0s3'] = dataframe.loc[index, 'p0q2']\n",
    "        elif row['station'] == 'AK':\n",
    "                dataframe.loc[index, 't0s1'] = dataframe.loc[index, 'p0q1']\n",
    "                dataframe.loc[index, 't0s2'] = dataframe.loc[index, 'p0q2']\n",
    "                dataframe.loc[index, 't0s3'] = dataframe.loc[index, 'p0q3']\n",
    "        elif row['station'] == 'AL':\n",
    "                dataframe.loc[index, 't0s1'] = dataframe.loc[index, 'p0q1']\n",
    "                dataframe.loc[index, 't0s2'] = dataframe.loc[index, 'p0q2']\n",
    "                dataframe.loc[index, 't0s3'] = dataframe.loc[index, 'p0q3']\n",
    "        elif row['station'] == 'AN':\n",
    "                dataframe.loc[index, 't0s1'] = dataframe.loc[index, 'p0q1']\n",
    "                dataframe.loc[index, 't0s2'] = dataframe.loc[index, 'p0q2']\n",
    "                dataframe.loc[index, 't0s3'] = dataframe.loc[index, 'p0q3']\n",
    "        elif row['station'] == 'AO':\n",
    "                dataframe.loc[index, 't0s1'] = dataframe.loc[index, 'p0q1']\n",
    "                dataframe.loc[index, 't0s2'] = dataframe.loc[index, 'p0q3']\n",
    "                dataframe.loc[index, 't0s3'] = dataframe.loc[index, 'p0q2']\n",
    "        elif row['station'] == 'AQ':\n",
    "                dataframe.loc[index, 't0s1'] = dataframe.loc[index, 'p0q1']\n",
    "                dataframe.loc[index, 't0s2'] = dataframe.loc[index, 'p0q2']\n",
    "                dataframe.loc[index, 't0s3'] = dataframe.loc[index, 'p0q3']\n",
    "        elif row['station'] == 'AS':\n",
    "                dataframe.loc[index, 't0s1'] = dataframe.loc[index, 'p0q1']\n",
    "                dataframe.loc[index, 't0s2'] = dataframe.loc[index, 'p0q2']\n",
    "                dataframe.loc[index, 't0s3'] = dataframe.loc[index, 'p0q3']\n",
    "        elif row['station'] == 'BC':\n",
    "                dataframe.loc[index, 't0s1'] = dataframe.loc[index, 'p0q3']\n",
    "                dataframe.loc[index, 't0s2'] = dataframe.loc[index, 'p0q2']\n",
    "                dataframe.loc[index, 't0s3'] = dataframe.loc[index, 'p0q1']\n",
    "        elif row['station'] == 'BF':\n",
    "                dataframe.loc[index, 't0s1'] = dataframe.loc[index, 'p0q1']\n",
    "                dataframe.loc[index, 't0s2'] = dataframe.loc[index, 'p0q2']\n",
    "                dataframe.loc[index, 't0s3'] = dataframe.loc[index, 'p0q3']\n",
    "        elif row['station'] == 'BG':\n",
    "                dataframe.loc[index, 't0s1'] = dataframe.loc[index, 'p0q1']\n",
    "                dataframe.loc[index, 't0s2'] = dataframe.loc[index, 'p0q2']\n",
    "                dataframe.loc[index, 't0s3'] = dataframe.loc[index, 'p0q3']\n",
    "        elif row['station'] == 'BH':\n",
    "                dataframe.loc[index, 't0s1'] = dataframe.loc[index, 'p0q3']\n",
    "                dataframe.loc[index, 't0s2'] = dataframe.loc[index, 'p0q1']\n",
    "                dataframe.loc[index, 't0s3'] = dataframe.loc[index, 'p0q2']\n",
    "        else:\n",
    "                dataframe.loc[index, 't0s1'] = dataframe.loc[index, 'p0q1']\n",
    "                dataframe.loc[index, 't0s2'] = dataframe.loc[index, 'p0q2']\n",
    "                dataframe.loc[index, 't0s3'] = dataframe.loc[index, 'p0q3']"
   ]
  },
  {
   "cell_type": "code",
   "execution_count": null,
   "metadata": {
    "id": "HfDk-YyD_GsN"
   },
   "outputs": [],
   "source": [
    "\n",
    "\n",
    "# Vérification des conditions et mise à jour de la colonne 00\n",
    "for index, row in validation.iterrows():\n",
    "    if 22 <= row['train'] <= 33:\n",
    "        if row['station'] == 'AB':\n",
    "                validation.loc[index, 't0s1'] = validation.loc[index, 'p0q1']\n",
    "                validation.loc[index, 't0s2'] = validation.loc[index, 'p0q2']\n",
    "                validation.loc[index, 't0s3'] = validation.loc[index, 'p0q3']\n",
    "        elif row['station'] == 'AI':\n",
    "                validation.loc[index, 't0s1'] = validation.loc[index, 'p0q1']\n",
    "                validation.loc[index, 't0s2'] = validation.loc[index, 'p0q2']\n",
    "                validation.loc[index, 't0s3'] = validation.loc[index, 'p0q3']\n",
    "        elif row['station'] == 'AJ':\n",
    "                validation.loc[index, 't0s1'] = validation.loc[index, 'p0q3']\n",
    "                validation.loc[index, 't0s2'] = validation.loc[index, 'p0q1']\n",
    "                validation.loc[index, 't0s3'] = validation.loc[index, 'p0q2']\n",
    "        elif row['station'] == 'AK':\n",
    "                validation.loc[index, 't0s1'] = validation.loc[index, 'p0q1']\n",
    "                validation.loc[index, 't0s2'] = validation.loc[index, 'p0q2']\n",
    "                validation.loc[index, 't0s3'] = validation.loc[index, 'p0q3']\n",
    "        elif row['station'] == 'AL':\n",
    "                validation.loc[index, 't0s1'] = validation.loc[index, 'p0q1']\n",
    "                validation.loc[index, 't0s2'] = validation.loc[index, 'p0q2']\n",
    "                validation.loc[index, 't0s3'] = validation.loc[index, 'p0q3']\n",
    "        elif row['station'] == 'AN':\n",
    "                validation.loc[index, 't0s1'] = validation.loc[index, 'p0q1']\n",
    "                validation.loc[index, 't0s2'] = validation.loc[index, 'p0q2']\n",
    "                validation.loc[index, 't0s3'] = validation.loc[index, 'p0q3']\n",
    "        elif row['station'] == 'AO':\n",
    "                validation.loc[index, 't0s1'] = validation.loc[index, 'p0q1']\n",
    "                validation.loc[index, 't0s2'] = validation.loc[index, 'p0q3']\n",
    "                validation.loc[index, 't0s3'] = validation.loc[index, 'p0q2']\n",
    "        elif row['station'] == 'AQ':\n",
    "                validation.loc[index, 't0s1'] = validation.loc[index, 'p0q1']\n",
    "                validation.loc[index, 't0s2'] = validation.loc[index, 'p0q2']\n",
    "                validation.loc[index, 't0s3'] = validation.loc[index, 'p0q3']\n",
    "        elif row['station'] == 'AS':\n",
    "                validation.loc[index, 't0s1'] = validation.loc[index, 'p0q1']\n",
    "                validation.loc[index, 't0s2'] = validation.loc[index, 'p0q2']\n",
    "                validation.loc[index, 't0s3'] = validation.loc[index, 'p0q3']\n",
    "        elif row['station'] == 'BC':\n",
    "                validation.loc[index, 't0s1'] = validation.loc[index, 'p0q3']\n",
    "                validation.loc[index, 't0s2'] = validation.loc[index, 'p0q2']\n",
    "                validation.loc[index, 't0s3'] = validation.loc[index, 'p0q1']\n",
    "        elif row['station'] == 'BF':\n",
    "                validation.loc[index, 't0s1'] = validation.loc[index, 'p0q1']\n",
    "                validation.loc[index, 't0s2'] = validation.loc[index, 'p0q2']\n",
    "                validation.loc[index, 't0s3'] = validation.loc[index, 'p0q3']\n",
    "        elif row['station'] == 'BG':\n",
    "                validation.loc[index, 't0s1'] = validation.loc[index, 'p0q1']\n",
    "                validation.loc[index, 't0s2'] = validation.loc[index, 'p0q2']\n",
    "                validation.loc[index, 't0s3'] = validation.loc[index, 'p0q3']\n",
    "        elif row['station'] == 'BH':\n",
    "                validation.loc[index, 't0s1'] = validation.loc[index, 'p0q3']\n",
    "                validation.loc[index, 't0s2'] = validation.loc[index, 'p0q1']\n",
    "                validation.loc[index, 't0s3'] = validation.loc[index, 'p0q2']\n",
    "        else:\n",
    "                validation.loc[index, 't0s1'] = validation.loc[index, 'p0q1']\n",
    "                validation.loc[index, 't0s2'] = validation.loc[index, 'p0q2']\n",
    "                validation.loc[index, 't0s3'] = validation.loc[index, 'p0q3']\n",
    "\n",
    "\n"
   ]
  },
  {
   "cell_type": "markdown",
   "metadata": {
    "id": "9i1N-yTqhFM4"
   },
   "source": [
    "##Train 28"
   ]
  },
  {
   "cell_type": "code",
   "execution_count": null,
   "metadata": {
    "id": "VY-aVfwSaiaQ"
   },
   "outputs": [],
   "source": [
    "import pandas as pd\n",
    "\n",
    "# Vérification des conditions et mise à jour de la colonne 00\n",
    "for index, row in dataframe.iterrows():\n",
    "    if row['train'] == 28:\n",
    "        if row['station'] == 'AE':\n",
    "                dataframe.loc[index, 't0s1'] = dataframe.loc[index, 'p0q1']\n",
    "                dataframe.loc[index, 't0s2'] = dataframe.loc[index, 'p0q2']\n",
    "                dataframe.loc[index, 't0s3'] = dataframe.loc[index, 'p0q3']\n",
    "        elif row['station'] == 'AI':\n",
    "                dataframe.loc[index, 't0s1'] = dataframe.loc[index, 'p0q1']\n",
    "                dataframe.loc[index, 't0s2'] = dataframe.loc[index, 'p0q2']\n",
    "                dataframe.loc[index, 't0s3'] = dataframe.loc[index, 'p0q3']\n",
    "        elif row['station'] == 'AJ':\n",
    "                dataframe.loc[index, 't0s1'] = dataframe.loc[index, 'p0q3']\n",
    "                dataframe.loc[index, 't0s2'] = dataframe.loc[index, 'p0q2']\n",
    "                dataframe.loc[index, 't0s3'] = dataframe.loc[index, 'p0q1']\n",
    "        elif row['station'] == 'AK':\n",
    "                dataframe.loc[index, 't0s1'] = dataframe.loc[index, 'p0q1']\n",
    "                dataframe.loc[index, 't0s2'] = dataframe.loc[index, 'p0q2']\n",
    "                dataframe.loc[index, 't0s3'] = dataframe.loc[index, 'p0q3']\n",
    "        elif row['station'] == 'AL':\n",
    "                dataframe.loc[index, 't0s1'] = dataframe.loc[index, 'p0q1']\n",
    "                dataframe.loc[index, 't0s2'] = dataframe.loc[index, 'p0q2']\n",
    "                dataframe.loc[index, 't0s3'] = dataframe.loc[index, 'p0q3']\n",
    "        elif row['station'] == 'AO':\n",
    "                dataframe.loc[index, 't0s1'] = dataframe.loc[index, 'p0q1']\n",
    "                dataframe.loc[index, 't0s2'] = dataframe.loc[index, 'p0q2']\n",
    "                dataframe.loc[index, 't0s3'] = dataframe.loc[index, 'p0q3']\n",
    "        elif row['station'] == 'AQ':\n",
    "                dataframe.loc[index, 't0s1'] = dataframe.loc[index, 'p0q2']\n",
    "                dataframe.loc[index, 't0s2'] = dataframe.loc[index, 'p0q1']\n",
    "                dataframe.loc[index, 't0s3'] = dataframe.loc[index, 'p0q3']\n",
    "        elif row['station'] == 'BB':\n",
    "                dataframe.loc[index, 't0s1'] = dataframe.loc[index, 'p0q2']\n",
    "                dataframe.loc[index, 't0s2'] = dataframe.loc[index, 'p0q3']\n",
    "                dataframe.loc[index, 't0s3'] = dataframe.loc[index, 'p0q1']\n",
    "        elif row['station'] == 'BC':\n",
    "                dataframe.loc[index, 't0s1'] = dataframe.loc[index, 'p0q1']\n",
    "                dataframe.loc[index, 't0s2'] = dataframe.loc[index, 'p0q2']\n",
    "                dataframe.loc[index, 't0s3'] = dataframe.loc[index, 'p0q3']\n",
    "        elif row['station'] == 'BG':\n",
    "                dataframe.loc[index, 't0s1'] = dataframe.loc[index, 'p0q1']\n",
    "                dataframe.loc[index, 't0s2'] = dataframe.loc[index, 'p0q2']\n",
    "                dataframe.loc[index, 't0s3'] = dataframe.loc[index, 'p0q3']\n",
    "        else:\n",
    "                dataframe.loc[index, 't0s1'] = dataframe.loc[index, 'p0q1']\n",
    "                dataframe.loc[index, 't0s2'] = dataframe.loc[index, 'p0q2']\n",
    "                dataframe.loc[index, 't0s3'] = dataframe.loc[index, 'p0q3']"
   ]
  },
  {
   "cell_type": "code",
   "execution_count": null,
   "metadata": {
    "id": "GyF3LLRf_Rc9"
   },
   "outputs": [],
   "source": [
    "\n",
    "\n",
    "# Vérification des conditions et mise à jour de la colonne 00\n",
    "for index, row in validation.iterrows():\n",
    "    if row['train'] == 28:\n",
    "        if row['station'] == 'AE':\n",
    "                validation.loc[index, 't0s1'] = validation.loc[index, 'p0q1']\n",
    "                validation.loc[index, 't0s2'] = validation.loc[index, 'p0q2']\n",
    "                validation.loc[index, 't0s3'] = validation.loc[index, 'p0q3']\n",
    "        elif row['station'] == 'AI':\n",
    "                validation.loc[index, 't0s1'] = validation.loc[index, 'p0q1']\n",
    "                validation.loc[index, 't0s2'] = validation.loc[index, 'p0q2']\n",
    "                validation.loc[index, 't0s3'] = validation.loc[index, 'p0q3']\n",
    "        elif row['station'] == 'AJ':\n",
    "                validation.loc[index, 't0s1'] = validation.loc[index, 'p0q3']\n",
    "                validation.loc[index, 't0s2'] = validation.loc[index, 'p0q2']\n",
    "                validation.loc[index, 't0s3'] = validation.loc[index, 'p0q1']\n",
    "        elif row['station'] == 'AK':\n",
    "                validation.loc[index, 't0s1'] = validation.loc[index, 'p0q1']\n",
    "                validation.loc[index, 't0s2'] = validation.loc[index, 'p0q2']\n",
    "                validation.loc[index, 't0s3'] = validation.loc[index, 'p0q3']\n",
    "        elif row['station'] == 'AL':\n",
    "                validation.loc[index, 't0s1'] = validation.loc[index, 'p0q1']\n",
    "                validation.loc[index, 't0s2'] = validation.loc[index, 'p0q2']\n",
    "                validation.loc[index, 't0s3'] = validation.loc[index, 'p0q3']\n",
    "        elif row['station'] == 'AO':\n",
    "                validation.loc[index, 't0s1'] = validation.loc[index, 'p0q1']\n",
    "                validation.loc[index, 't0s2'] = validation.loc[index, 'p0q2']\n",
    "                validation.loc[index, 't0s3'] = validation.loc[index, 'p0q3']\n",
    "        elif row['station'] == 'AQ':\n",
    "                validation.loc[index, 't0s1'] = validation.loc[index, 'p0q2']\n",
    "                validation.loc[index, 't0s2'] = validation.loc[index, 'p0q1']\n",
    "                validation.loc[index, 't0s3'] = validation.loc[index, 'p0q3']\n",
    "        elif row['station'] == 'BB':\n",
    "                validation.loc[index, 't0s1'] = validation.loc[index, 'p0q2']\n",
    "                validation.loc[index, 't0s2'] = validation.loc[index, 'p0q3']\n",
    "                validation.loc[index, 't0s3'] = validation.loc[index, 'p0q1']\n",
    "        elif row['station'] == 'BC':\n",
    "                validation.loc[index, 't0s1'] = validation.loc[index, 'p0q1']\n",
    "                validation.loc[index, 't0s2'] = validation.loc[index, 'p0q2']\n",
    "                validation.loc[index, 't0s3'] = validation.loc[index, 'p0q3']\n",
    "        elif row['station'] == 'BG':\n",
    "                validation.loc[index, 't0s1'] = validation.loc[index, 'p0q1']\n",
    "                validation.loc[index, 't0s2'] = validation.loc[index, 'p0q2']\n",
    "                validation.loc[index, 't0s3'] = validation.loc[index, 'p0q3']\n",
    "        else:\n",
    "                validation.loc[index, 't0s1'] = validation.loc[index, 'p0q1']\n",
    "                validation.loc[index, 't0s2'] = validation.loc[index, 'p0q2']\n",
    "                validation.loc[index, 't0s3'] = validation.loc[index, 'p0q3']"
   ]
  },
  {
   "cell_type": "markdown",
   "metadata": {
    "id": "v9J1VzOKhMIJ"
   },
   "source": [
    "##Train 34 à 44"
   ]
  },
  {
   "cell_type": "code",
   "execution_count": null,
   "metadata": {
    "id": "MiiqoOYLhKLQ"
   },
   "outputs": [],
   "source": [
    "import pandas as pd\n",
    "\n",
    "# Vérification des conditions et mise à jour de la colonne 00\n",
    "for index, row in dataframe.iterrows():\n",
    "    if 34 <= row['train'] <= 44:\n",
    "        if row['station'] == 'AF':\n",
    "                dataframe.loc[index, 't0s1'] = dataframe.loc[index, 'p0q1']\n",
    "                dataframe.loc[index, 't0s2'] = dataframe.loc[index, 'p0q2']\n",
    "                dataframe.loc[index, 't0s3'] = dataframe.loc[index, 'p0q3']\n",
    "        elif row['station'] == 'AJ':\n",
    "                dataframe.loc[index, 't0s1'] = dataframe.loc[index, 'p0q1']\n",
    "                dataframe.loc[index, 't0s2'] = dataframe.loc[index, 'p0q2']\n",
    "                dataframe.loc[index, 't0s3'] = dataframe.loc[index, 'p0q3']\n",
    "        elif row['station'] == 'AP':\n",
    "                dataframe.loc[index, 't0s1'] = dataframe.loc[index, 'p0q1']\n",
    "                dataframe.loc[index, 't0s2'] = dataframe.loc[index, 'p0q2']\n",
    "                dataframe.loc[index, 't0s3'] = dataframe.loc[index, 'p0q3']\n",
    "        elif row['station'] == 'AZ':\n",
    "                dataframe.loc[index, 't0s1'] = dataframe.loc[index, 'p0q1']\n",
    "                dataframe.loc[index, 't0s2'] = dataframe.loc[index, 'p0q2']\n",
    "                dataframe.loc[index, 't0s3'] = dataframe.loc[index, 'p0q3']\n",
    "        elif row['station'] == 'BB':\n",
    "                dataframe.loc[index, 't0s1'] = dataframe.loc[index, 'p0q2']\n",
    "                dataframe.loc[index, 't0s2'] = dataframe.loc[index, 'p0q1']\n",
    "                dataframe.loc[index, 't0s3'] = dataframe.loc[index, 'p0q3']\n",
    "        else:\n",
    "                dataframe.loc[index, 't0s1'] = dataframe.loc[index, 'p0q1']\n",
    "                dataframe.loc[index, 't0s2'] = dataframe.loc[index, 'p0q2']\n",
    "                dataframe.loc[index, 't0s3'] = dataframe.loc[index, 'p0q3']\n"
   ]
  },
  {
   "cell_type": "code",
   "execution_count": null,
   "metadata": {
    "id": "ZdTICQpu_anY"
   },
   "outputs": [],
   "source": [
    "\n",
    "\n",
    "# Vérification des conditions et mise à jour de la colonne 00\n",
    "for index, row in validation.iterrows():\n",
    "    if 34 <= row['train'] <= 44:\n",
    "        if row['station'] == 'AF':\n",
    "                validation.loc[index, 't0s1'] = validation.loc[index, 'p0q1']\n",
    "                validation.loc[index, 't0s2'] = validation.loc[index, 'p0q2']\n",
    "                validation.loc[index, 't0s3'] = validation.loc[index, 'p0q3']\n",
    "        elif row['station'] == 'AJ':\n",
    "                validation.loc[index, 't0s1'] = validation.loc[index, 'p0q1']\n",
    "                validation.loc[index, 't0s2'] = validation.loc[index, 'p0q2']\n",
    "                validation.loc[index, 't0s3'] = validation.loc[index, 'p0q3']\n",
    "        elif row['station'] == 'AP':\n",
    "                validation.loc[index, 't0s1'] = validation.loc[index, 'p0q1']\n",
    "                validation.loc[index, 't0s2'] = validation.loc[index, 'p0q2']\n",
    "                validation.loc[index, 't0s3'] = validation.loc[index, 'p0q3']\n",
    "        elif row['station'] == 'AZ':\n",
    "                validation.loc[index, 't0s1'] = validation.loc[index, 'p0q1']\n",
    "                validation.loc[index, 't0s2'] = validation.loc[index, 'p0q2']\n",
    "                validation.loc[index, 't0s3'] = validation.loc[index, 'p0q3']\n",
    "        elif row['station'] == 'BB':\n",
    "                validation.loc[index, 't0s1'] = validation.loc[index, 'p0q2']\n",
    "                validation.loc[index, 't0s2'] = validation.loc[index, 'p0q1']\n",
    "                validation.loc[index, 't0s3'] = validation.loc[index, 'p0q3']\n",
    "        else:\n",
    "                validation.loc[index, 't0s1'] = validation.loc[index, 'p0q1']\n",
    "                validation.loc[index, 't0s2'] = validation.loc[index, 'p0q2']\n",
    "                validation.loc[index, 't0s3'] = validation.loc[index, 'p0q3']\n",
    "\n",
    "\n"
   ]
  },
  {
   "cell_type": "markdown",
   "metadata": {
    "id": "SgsDURsUh4ks"
   },
   "source": [
    "##Train 45 à 50"
   ]
  },
  {
   "cell_type": "code",
   "execution_count": null,
   "metadata": {
    "id": "y2bB-VCDh4Sy"
   },
   "outputs": [],
   "source": [
    "import pandas as pd\n",
    "\n",
    "# Vérification des conditions et mise à jour de la colonne 00\n",
    "for index, row in dataframe.iterrows():\n",
    "    if 45 <= row['train'] <= 50:\n",
    "        if row['station'] == 'AA':\n",
    "                dataframe.loc[index, 't0s1'] = dataframe.loc[index, 'p0q3']\n",
    "                dataframe.loc[index, 't0s2'] = dataframe.loc[index, 'p0q2']\n",
    "                dataframe.loc[index, 't0s3'] = dataframe.loc[index, 'p0q1']\n",
    "        elif row['station'] == 'AC':\n",
    "                dataframe.loc[index, 't0s1'] = dataframe.loc[index, 'p0q2']\n",
    "                dataframe.loc[index, 't0s2'] = dataframe.loc[index, 'p0q3']\n",
    "                dataframe.loc[index, 't0s3'] = dataframe.loc[index, 'p0q1']\n",
    "        elif row['station'] == 'AG':\n",
    "                dataframe.loc[index, 't0s1'] = dataframe.loc[index, 'p0q1']\n",
    "                dataframe.loc[index, 't0s2'] = dataframe.loc[index, 'p0q2']\n",
    "                dataframe.loc[index, 't0s3'] = dataframe.loc[index, 'p0q3']\n",
    "        elif row['station'] == 'AH':\n",
    "                dataframe.loc[index, 't0s1'] = dataframe.loc[index, 'p0q2']\n",
    "                dataframe.loc[index, 't0s2'] = dataframe.loc[index, 'p0q1']\n",
    "                dataframe.loc[index, 't0s3'] = dataframe.loc[index, 'p0q3']\n",
    "        elif row['station'] == 'AJ':\n",
    "                dataframe.loc[index, 't0s1'] = dataframe.loc[index, 'p0q3']\n",
    "                dataframe.loc[index, 't0s2'] = dataframe.loc[index, 'p0q2']\n",
    "                dataframe.loc[index, 't0s3'] = dataframe.loc[index, 'p0q1']\n",
    "        elif row['station'] == 'AR':\n",
    "                dataframe.loc[index, 't0s1'] = dataframe.loc[index, 'p0q1']\n",
    "                dataframe.loc[index, 't0s2'] = dataframe.loc[index, 'p0q2']\n",
    "                dataframe.loc[index, 't0s3'] = dataframe.loc[index, 'p0q3']\n",
    "        elif row['station'] == 'AU':\n",
    "                dataframe.loc[index, 't0s1'] = dataframe.loc[index, 'p0q3']\n",
    "                dataframe.loc[index, 't0s2'] = dataframe.loc[index, 'p0q1']\n",
    "                dataframe.loc[index, 't0s3'] = dataframe.loc[index, 'p0q2']\n",
    "        elif row['station'] == 'AZ':\n",
    "                dataframe.loc[index, 't0s1'] = dataframe.loc[index, 'p0q3']\n",
    "                dataframe.loc[index, 't0s2'] = dataframe.loc[index, 'p0q2']\n",
    "                dataframe.loc[index, 't0s3'] = dataframe.loc[index, 'p0q1']\n",
    "        elif row['station'] == 'BA':\n",
    "                dataframe.loc[index, 't0s1'] = dataframe.loc[index, 'p0q1']\n",
    "                dataframe.loc[index, 't0s2'] = dataframe.loc[index, 'p0q2']\n",
    "                dataframe.loc[index, 't0s3'] = dataframe.loc[index, 'p0q3']\n",
    "        elif row['station'] == 'BB':\n",
    "                dataframe.loc[index, 't0s1'] = dataframe.loc[index, 'p0q2']\n",
    "                dataframe.loc[index, 't0s2'] = dataframe.loc[index, 'p0q3']\n",
    "                dataframe.loc[index, 't0s3'] = dataframe.loc[index, 'p0q1']\n",
    "        elif row['station'] == 'BI':\n",
    "                dataframe.loc[index, 't0s1'] = dataframe.loc[index, 'p0q2']\n",
    "                dataframe.loc[index, 't0s2'] = dataframe.loc[index, 'p0q1']\n",
    "                dataframe.loc[index, 't0s3'] = dataframe.loc[index, 'p0q3']\n",
    "        elif row['station'] == 'BJ':\n",
    "                dataframe.loc[index, 't0s1'] = dataframe.loc[index, 'p0q1']\n",
    "                dataframe.loc[index, 't0s2'] = dataframe.loc[index, 'p0q3']\n",
    "                dataframe.loc[index, 't0s3'] = dataframe.loc[index, 'p0q2']\n",
    "        else:\n",
    "                dataframe.loc[index, 't0s1'] = dataframe.loc[index, 'p0q1']\n",
    "                dataframe.loc[index, 't0s2'] = dataframe.loc[index, 'p0q2']\n",
    "                dataframe.loc[index, 't0s3'] = dataframe.loc[index, 'p0q3']\n"
   ]
  },
  {
   "cell_type": "code",
   "execution_count": null,
   "metadata": {
    "id": "65RydhW0_cYI"
   },
   "outputs": [],
   "source": [
    "import pandas as pd\n",
    "\n",
    "\n",
    "# Vérification des conditions et mise à jour de la colonne 00\n",
    "for index, row in validation.iterrows():\n",
    "    if 45 <= row['train'] <= 50:\n",
    "        if row['station'] == 'AA':\n",
    "                validation.loc[index, 't0s1'] = validation.loc[index, 'p0q3']\n",
    "                validation.loc[index, 't0s2'] = validation.loc[index, 'p0q2']\n",
    "                validation.loc[index, 't0s3'] = validation.loc[index, 'p0q1']\n",
    "        elif row['station'] == 'AC':\n",
    "                validation.loc[index, 't0s1'] = validation.loc[index, 'p0q2']\n",
    "                validation.loc[index, 't0s2'] = validation.loc[index, 'p0q3']\n",
    "                validation.loc[index, 't0s3'] = validation.loc[index, 'p0q1']\n",
    "        elif row['station'] == 'AG':\n",
    "                validation.loc[index, 't0s1'] = validation.loc[index, 'p0q1']\n",
    "                validation.loc[index, 't0s2'] = validation.loc[index, 'p0q2']\n",
    "                validation.loc[index, 't0s3'] = validation.loc[index, 'p0q3']\n",
    "        elif row['station'] == 'AH':\n",
    "                validation.loc[index, 't0s1'] = validation.loc[index, 'p0q2']\n",
    "                validation.loc[index, 't0s2'] = validation.loc[index, 'p0q1']\n",
    "                validation.loc[index, 't0s3'] = validation.loc[index, 'p0q3']\n",
    "        elif row['station'] == 'AJ':\n",
    "                validation.loc[index, 't0s1'] = validation.loc[index, 'p0q3']\n",
    "                validation.loc[index, 't0s2'] = validation.loc[index, 'p0q2']\n",
    "                validation.loc[index, 't0s3'] = validation.loc[index, 'p0q1']\n",
    "        elif row['station'] == 'AR':\n",
    "                validation.loc[index, 't0s1'] = validation.loc[index, 'p0q1']\n",
    "                validation.loc[index, 't0s2'] = validation.loc[index, 'p0q2']\n",
    "                validation.loc[index, 't0s3'] = validation.loc[index, 'p0q3']\n",
    "        elif row['station'] == 'AU':\n",
    "                validation.loc[index, 't0s1'] = validation.loc[index, 'p0q3']\n",
    "                validation.loc[index, 't0s2'] = validation.loc[index, 'p0q1']\n",
    "                validation.loc[index, 't0s3'] = validation.loc[index, 'p0q2']\n",
    "        elif row['station'] == 'AZ':\n",
    "                validation.loc[index, 't0s1'] = validation.loc[index, 'p0q3']\n",
    "                validation.loc[index, 't0s2'] = validation.loc[index, 'p0q2']\n",
    "                validation.loc[index, 't0s3'] = validation.loc[index, 'p0q1']\n",
    "        elif row['station'] == 'BA':\n",
    "                validation.loc[index, 't0s1'] = validation.loc[index, 'p0q1']\n",
    "                validation.loc[index, 't0s2'] = validation.loc[index, 'p0q2']\n",
    "                validation.loc[index, 't0s3'] = validation.loc[index, 'p0q3']\n",
    "        elif row['station'] == 'BB':\n",
    "                validation.loc[index, 't0s1'] = validation.loc[index, 'p0q2']\n",
    "                validation.loc[index, 't0s2'] = validation.loc[index, 'p0q3']\n",
    "                validation.loc[index, 't0s3'] = validation.loc[index, 'p0q1']\n",
    "        elif row['station'] == 'BI':\n",
    "                validation.loc[index, 't0s1'] = validation.loc[index, 'p0q2']\n",
    "                validation.loc[index, 't0s2'] = validation.loc[index, 'p0q1']\n",
    "                validation.loc[index, 't0s3'] = validation.loc[index, 'p0q3']\n",
    "        elif row['station'] == 'BJ':\n",
    "                validation.loc[index, 't0s1'] = validation.loc[index, 'p0q1']\n",
    "                validation.loc[index, 't0s2'] = validation.loc[index, 'p0q3']\n",
    "                validation.loc[index, 't0s3'] = validation.loc[index, 'p0q2']\n",
    "        else:\n",
    "                validation.loc[index, 't0s1'] = validation.loc[index, 'p0q1']\n",
    "                validation.loc[index, 't0s2'] = validation.loc[index, 'p0q2']\n",
    "                validation.loc[index, 't0s3'] = validation.loc[index, 'p0q3']"
   ]
  },
  {
   "cell_type": "markdown",
   "metadata": {
    "id": "kEy-8771kW6G"
   },
   "source": [
    "##Train 51 à 55"
   ]
  },
  {
   "cell_type": "code",
   "execution_count": null,
   "metadata": {
    "id": "-8zUmlmAkU2R"
   },
   "outputs": [],
   "source": [
    "import pandas as pd\n",
    "\n",
    "# Vérification des conditions et mise à jour de la colonne 00\n",
    "for index, row in dataframe.iterrows():\n",
    "    if 51 <= row['train'] <= 55:\n",
    "        if row['station'] == 'AC':\n",
    "                dataframe.loc[index, 't0s1'] = dataframe.loc[index, 'p0q1']\n",
    "                dataframe.loc[index, 't0s2'] = dataframe.loc[index, 'p0q3']\n",
    "                dataframe.loc[index, 't0s3'] = dataframe.loc[index, 'p0q2']\n",
    "        elif row['station'] == 'AG':\n",
    "                dataframe.loc[index, 't0s1'] = dataframe.loc[index, 'p0q1']\n",
    "                dataframe.loc[index, 't0s2'] = dataframe.loc[index, 'p0q2']\n",
    "                dataframe.loc[index, 't0s3'] = dataframe.loc[index, 'p0q3']\n",
    "        elif row['station'] == 'AH':\n",
    "                dataframe.loc[index, 't0s1'] = dataframe.loc[index, 'p0q2']\n",
    "                dataframe.loc[index, 't0s2'] = dataframe.loc[index, 'p0q1']\n",
    "                dataframe.loc[index, 't0s3'] = dataframe.loc[index, 'p0q3']\n",
    "        elif row['station'] == 'AJ':\n",
    "                dataframe.loc[index, 't0s1'] = dataframe.loc[index, 'p0q3']\n",
    "                dataframe.loc[index, 't0s2'] = dataframe.loc[index, 'p0q2']\n",
    "                dataframe.loc[index, 't0s3'] = dataframe.loc[index, 'p0q1']\n",
    "        elif row['station'] == 'AU':\n",
    "                dataframe.loc[index, 't0s1'] = dataframe.loc[index, 'p0q2']\n",
    "                dataframe.loc[index, 't0s2'] = dataframe.loc[index, 'p0q1']\n",
    "                dataframe.loc[index, 't0s3'] = dataframe.loc[index, 'p0q3']\n",
    "        elif row['station'] == 'AV':\n",
    "                dataframe.loc[index, 't0s1'] = dataframe.loc[index, 'p0q1']\n",
    "                dataframe.loc[index, 't0s2'] = dataframe.loc[index, 'p0q2']\n",
    "                dataframe.loc[index, 't0s3'] = dataframe.loc[index, 'p0q3']\n",
    "        elif row['station'] == 'AY':\n",
    "                dataframe.loc[index, 't0s1'] = dataframe.loc[index, 'p0q1']\n",
    "                dataframe.loc[index, 't0s2'] = dataframe.loc[index, 'p0q2']\n",
    "                dataframe.loc[index, 't0s3'] = dataframe.loc[index, 'p0q3']\n",
    "        elif row['station'] == 'AZ':\n",
    "                dataframe.loc[index, 't0s1'] = dataframe.loc[index, 'p0q3']\n",
    "                dataframe.loc[index, 't0s2'] = dataframe.loc[index, 'p0q2']\n",
    "                dataframe.loc[index, 't0s3'] = dataframe.loc[index, 'p0q1']\n",
    "        elif row['station'] == 'BB':\n",
    "                dataframe.loc[index, 't0s1'] = dataframe.loc[index, 'p0q2']\n",
    "                dataframe.loc[index, 't0s2'] = dataframe.loc[index, 'p0q3']\n",
    "                dataframe.loc[index, 't0s3'] = dataframe.loc[index, 'p0q1']\n",
    "        else:\n",
    "                dataframe.loc[index, 't0s1'] = dataframe.loc[index, 'p0q1']\n",
    "                dataframe.loc[index, 't0s2'] = dataframe.loc[index, 'p0q2']\n",
    "                dataframe.loc[index, 't0s3'] = dataframe.loc[index, 'p0q3']\n"
   ]
  },
  {
   "cell_type": "code",
   "execution_count": null,
   "metadata": {
    "id": "m4KRlh6w_t6P"
   },
   "outputs": [],
   "source": [
    "\n",
    "\n",
    "# Vérification des conditions et mise à jour de la colonne 00\n",
    "for index, row in validation.iterrows():\n",
    "    if 51 <= row['train'] <= 55:\n",
    "        if row['station'] == 'AC':\n",
    "                validation.loc[index, 't0s1'] = validation.loc[index, 'p0q1']\n",
    "                validation.loc[index, 't0s2'] = validation.loc[index, 'p0q3']\n",
    "                validation.loc[index, 't0s3'] = validation.loc[index, 'p0q2']\n",
    "        elif row['station'] == 'AG':\n",
    "                validation.loc[index, 't0s1'] = validation.loc[index, 'p0q1']\n",
    "                validation.loc[index, 't0s2'] = validation.loc[index, 'p0q2']\n",
    "                validation.loc[index, 't0s3'] = validation.loc[index, 'p0q3']\n",
    "        elif row['station'] == 'AH':\n",
    "                validation.loc[index, 't0s1'] = validation.loc[index, 'p0q2']\n",
    "                validation.loc[index, 't0s2'] = validation.loc[index, 'p0q1']\n",
    "                validation.loc[index, 't0s3'] = validation.loc[index, 'p0q3']\n",
    "        elif row['station'] == 'AJ':\n",
    "                validation.loc[index, 't0s1'] = validation.loc[index, 'p0q3']\n",
    "                validation.loc[index, 't0s2'] = validation.loc[index, 'p0q2']\n",
    "                validation.loc[index, 't0s3'] = validation.loc[index, 'p0q1']\n",
    "        elif row['station'] == 'AU':\n",
    "                validation.loc[index, 't0s1'] = validation.loc[index, 'p0q2']\n",
    "                validation.loc[index, 't0s2'] = validation.loc[index, 'p0q1']\n",
    "                validation.loc[index, 't0s3'] = validation.loc[index, 'p0q3']\n",
    "        elif row['station'] == 'AV':\n",
    "                validation.loc[index, 't0s1'] = validation.loc[index, 'p0q1']\n",
    "                validation.loc[index, 't0s2'] = validation.loc[index, 'p0q2']\n",
    "                validation.loc[index, 't0s3'] = validation.loc[index, 'p0q3']\n",
    "        elif row['station'] == 'AY':\n",
    "                validation.loc[index, 't0s1'] = validation.loc[index, 'p0q1']\n",
    "                validation.loc[index, 't0s2'] = validation.loc[index, 'p0q2']\n",
    "                validation.loc[index, 't0s3'] = validation.loc[index, 'p0q3']\n",
    "        elif row['station'] == 'AZ':\n",
    "                validation.loc[index, 't0s1'] = validation.loc[index, 'p0q3']\n",
    "                validation.loc[index, 't0s2'] = validation.loc[index, 'p0q2']\n",
    "                validation.loc[index, 't0s3'] = validation.loc[index, 'p0q1']\n",
    "        elif row['station'] == 'BB':\n",
    "                validation.loc[index, 't0s1'] = validation.loc[index, 'p0q2']\n",
    "                validation.loc[index, 't0s2'] = validation.loc[index, 'p0q3']\n",
    "                validation.loc[index, 't0s3'] = validation.loc[index, 'p0q1']\n",
    "        else:\n",
    "                validation.loc[index, 't0s1'] = validation.loc[index, 'p0q1']\n",
    "                validation.loc[index, 't0s2'] = validation.loc[index, 'p0q2']\n",
    "                validation.loc[index, 't0s3'] = validation.loc[index, 'p0q3']\n",
    "\n",
    "\n",
    "\n",
    "\n",
    "\n"
   ]
  },
  {
   "cell_type": "markdown",
   "metadata": {
    "id": "2UJMHq1-536x"
   },
   "source": [
    "On ajoute une colonne précédent chaque piq0 et t0sj, prenant la valeur :\n",
    "* 0 si il y a un nan dans la colonne associée\n",
    "* 1 sinon"
   ]
  },
  {
   "cell_type": "code",
   "execution_count": null,
   "metadata": {
    "id": "LTtrluZv53YP"
   },
   "outputs": [],
   "source": [
    "dataframe['val_p1q0'] = np.where(dataframe['p1q0'].isnull(), 0, 1)\n",
    "dataframe['val_p2q0'] = np.where(dataframe['p2q0'].isnull(), 0, 1)\n",
    "dataframe['val_p3q0'] = np.where(dataframe['p3q0'].isnull(), 0, 1)\n",
    "dataframe['val_t0s1'] = np.where(dataframe['t0s1'].isnull(), 0, 1)\n",
    "dataframe['val_t0s2'] = np.where(dataframe['t0s2'].isnull(), 0, 1)\n",
    "dataframe['val_t0s3'] = np.where(dataframe['t0s3'].isnull(), 0, 1)\n",
    "dataframe['val_p0q1'] = np.where(dataframe['p0q1'].isnull(), 0, 1)\n",
    "dataframe['val_p0q2'] = np.where(dataframe['p0q2'].isnull(), 0, 1)\n",
    "dataframe['val_p0q3'] = np.where(dataframe['p0q3'].isnull(), 0, 1)"
   ]
  },
  {
   "cell_type": "code",
   "execution_count": null,
   "metadata": {
    "id": "DN2Sq4KYCb1I"
   },
   "outputs": [],
   "source": [
    "validation['val_p1q0'] = np.where(validation['p1q0'].isnull(), 0, 1)\n",
    "validation['val_p2q0'] = np.where(validation['p2q0'].isnull(), 0, 1)\n",
    "validation['val_p3q0'] = np.where(validation['p3q0'].isnull(), 0, 1)\n",
    "validation['val_t0s1'] = np.where(validation['t0s1'].isnull(), 0, 1)\n",
    "validation['val_t0s2'] = np.where(validation['t0s2'].isnull(), 0, 1)\n",
    "validation['val_t0s3'] = np.where(validation['t0s3'].isnull(), 0, 1)\n",
    "validation['val_p0q1'] = np.where(validation['p0q1'].isnull(), 0, 1)\n",
    "validation['val_p0q2'] = np.where(validation['p0q2'].isnull(), 0, 1)\n",
    "validation['val_p0q3'] = np.where(validation['p0q3'].isnull(), 0, 1)"
   ]
  },
  {
   "cell_type": "markdown",
   "metadata": {
    "id": "t12skp9c6Skx"
   },
   "source": [
    "On remplit les nan par -1"
   ]
  },
  {
   "cell_type": "code",
   "execution_count": null,
   "metadata": {
    "id": "J5YCTXnA6U8Y"
   },
   "outputs": [],
   "source": [
    "dataframe = dataframe.fillna(-1)\n",
    "validation = validation.fillna(-1)"
   ]
  },
  {
   "cell_type": "code",
   "execution_count": null,
   "metadata": {
    "id": "DjO598N-kCbU"
   },
   "outputs": [],
   "source": []
  },
  {
   "cell_type": "code",
   "execution_count": null,
   "metadata": {
    "colab": {
     "base_uri": "https://localhost:8080/"
    },
    "executionInfo": {
     "elapsed": 9,
     "status": "ok",
     "timestamp": 1688404549764,
     "user": {
      "displayName": "Haga RANDRIANALY",
      "userId": "06151103051613160384"
     },
     "user_tz": -120
    },
    "id": "mfskfWr4ljgr",
    "outputId": "6348bd31-d3eb-41a4-a3e4-6538ddbe874d"
   },
   "outputs": [
    {
     "data": {
      "text/plain": [
       "p0q0    1.00\n",
       "t0s1    0.91\n",
       "t0s2    0.85\n",
       "t0s3    0.76\n",
       "Name: p0q0, dtype: float64"
      ]
     },
     "execution_count": 32,
     "metadata": {},
     "output_type": "execute_result"
    }
   ],
   "source": [
    "\n",
    "df_oooooo_bis = dataframe.loc[dataframe['filtre'] == 'oooooo'].copy()\n",
    "\n",
    "corr_p0qj = df_oooooo_bis[['t0s1','t0s2', 't0s3', 'p0q0']]\n",
    "features_corr = \\\n",
    "        feature_engineering.get_features_correlated_to_target(\n",
    "                corr_p0qj, target_feature='p0q0')\n",
    "\n",
    "features_corr[:]"
   ]
  },
  {
   "cell_type": "markdown",
   "metadata": {
    "id": "Th4rZ7US6zys"
   },
   "source": [
    "On remarque que la corrélation est bien meilleure, et plus logique après correction"
   ]
  },
  {
   "cell_type": "markdown",
   "metadata": {
    "id": "e1Qgf_Fm6sTK"
   },
   "source": [
    "##Régressions linéaires sur les variables historiques"
   ]
  },
  {
   "cell_type": "code",
   "execution_count": null,
   "metadata": {
    "id": "294eR_Bt5GAo"
   },
   "outputs": [],
   "source": [
    "features_t0si = [\n",
    " 't0s1',\n",
    " 't0s2',\n",
    " 't0s3',\n",
    " 'p1q0',\n",
    " 'p2q0',\n",
    " 'p3q0',\n",
    " 'val_p1q0',\n",
    " 'val_p2q0',\n",
    " 'val_p3q0',\n",
    " 'val_t0s1',\n",
    " 'val_t0s2',\n",
    " 'val_t0s3'\n",
    "]"
   ]
  },
  {
   "cell_type": "code",
   "execution_count": null,
   "metadata": {
    "id": "NunSF4lx6MpL"
   },
   "outputs": [],
   "source": [
    "features_piqj = [\n",
    " 'p1q0',\n",
    " 'p2q0',\n",
    " 'p3q0',\n",
    " 'p0q1',\n",
    " 'p0q2',\n",
    " 'p0q3',\n",
    " 'val_p1q0',\n",
    " 'val_p2q0',\n",
    " 'val_p3q0',\n",
    " 'val_p0q1',\n",
    " 'val_p0q2',\n",
    " 'val_p0q3'\n",
    "]"
   ]
  },
  {
   "cell_type": "code",
   "execution_count": null,
   "metadata": {
    "colab": {
     "base_uri": "https://localhost:8080/"
    },
    "executionInfo": {
     "elapsed": 1848,
     "status": "ok",
     "timestamp": 1688404551609,
     "user": {
      "displayName": "Haga RANDRIANALY",
      "userId": "06151103051613160384"
     },
     "user_tz": -120
    },
    "id": "kUF54GCd8kEP",
    "outputId": "da7cb54b-366b-4839-e55d-8010df55c02b"
   },
   "outputs": [
    {
     "name": "stdout",
     "output_type": "stream",
     "text": [
      "--2023-07-03 17:15:49--  https://raw.githubusercontent.com/andreaaraldo/machine-learning-for-networks/master/course_library/andrea_models.py\n",
      "Resolving raw.githubusercontent.com (raw.githubusercontent.com)... 185.199.108.133, 185.199.109.133, 185.199.110.133, ...\n",
      "Connecting to raw.githubusercontent.com (raw.githubusercontent.com)|185.199.108.133|:443... connected.\n",
      "HTTP request sent, awaiting response... 200 OK\n",
      "Length: 3190 (3.1K) [text/plain]\n",
      "Saving to: ‘andrea_models.py’\n",
      "\n",
      "andrea_models.py    100%[===================>]   3.12K  --.-KB/s    in 0s      \n",
      "\n",
      "2023-07-03 17:15:49 (46.6 MB/s) - ‘andrea_models.py’ saved [3190/3190]\n",
      "\n",
      "--2023-07-03 17:15:49--  https://raw.githubusercontent.com/andreaaraldo/machine-learning-for-networks/master/course_library/feature_engineering.py\n",
      "Resolving raw.githubusercontent.com (raw.githubusercontent.com)... 185.199.108.133, 185.199.109.133, 185.199.111.133, ...\n",
      "Connecting to raw.githubusercontent.com (raw.githubusercontent.com)|185.199.108.133|:443... connected.\n",
      "HTTP request sent, awaiting response... 200 OK\n",
      "Length: 2206 (2.2K) [text/plain]\n",
      "Saving to: ‘feature_engineering.py.1’\n",
      "\n",
      "feature_engineering 100%[===================>]   2.15K  --.-KB/s    in 0s      \n",
      "\n",
      "2023-07-03 17:15:49 (39.5 MB/s) - ‘feature_engineering.py.1’ saved [2206/2206]\n",
      "\n"
     ]
    }
   ],
   "source": [
    "from pandas.core.describe import DataFrameDescriber\n",
    "from sklearn.model_selection import train_test_split\n",
    "from sklearn.metrics import mean_squared_error\n",
    "import math # for sqrt\n",
    "from sklearn.model_selection import cross_val_score, KFold\n",
    "import pickle # to serialize/deserialize objects\n",
    "\n",
    "from statistics import mean\n",
    "\n",
    "\n",
    "## Download the code I prepared for you\n",
    "!wget https://raw.githubusercontent.com/andreaaraldo/machine-learning-for-networks/master/course_library/andrea_models.py\n",
    "!wget https://raw.githubusercontent.com/andreaaraldo/machine-learning-for-networks/master/course_library/feature_engineering.py\n",
    "\n",
    "from andrea_models import AndreaLinearRegression"
   ]
  },
  {
   "cell_type": "markdown",
   "metadata": {
    "id": "eEBw0vE63WUc"
   },
   "source": [
    "##Régression linéaire avec les piqj"
   ]
  },
  {
   "cell_type": "code",
   "execution_count": null,
   "metadata": {
    "id": "-i_AwrrW8sFF"
   },
   "outputs": [],
   "source": [
    "# Scikit learn models expect matrices. We first transform\n",
    "# the dataframe into an array\n",
    "X_train_multi = dataframe[features_piqj].values\n",
    "\n",
    "y_train_multi = dataframe['p0q0'].values\n",
    "\n",
    "\n",
    "# Do the same for the test dataset\n",
    "X_test_multi = validation[features_piqj].values\n",
    "y_test = validation['p0q0'].values"
   ]
  },
  {
   "cell_type": "code",
   "execution_count": null,
   "metadata": {
    "colab": {
     "base_uri": "https://localhost:8080/"
    },
    "executionInfo": {
     "elapsed": 18,
     "status": "ok",
     "timestamp": 1688404551610,
     "user": {
      "displayName": "Haga RANDRIANALY",
      "userId": "06151103051613160384"
     },
     "user_tz": -120
    },
    "id": "aYzpriSo866i",
    "outputId": "4152b114-bb22-4001-d198-45dfbb1ca473"
   },
   "outputs": [
    {
     "name": "stdout",
     "output_type": "stream",
     "text": [
      "                            OLS Regression Results                            \n",
      "==============================================================================\n",
      "Dep. Variable:                      y   R-squared:                       0.863\n",
      "Model:                            OLS   Adj. R-squared:                  0.863\n",
      "Method:                 Least Squares   F-statistic:                 1.318e+04\n",
      "Date:                Mon, 03 Jul 2023   Prob (F-statistic):               0.00\n",
      "Time:                        17:15:50   Log-Likelihood:                 35878.\n",
      "No. Observations:               25160   AIC:                        -7.173e+04\n",
      "Df Residuals:                   25147   BIC:                        -7.162e+04\n",
      "Df Model:                          12                                         \n",
      "Covariance Type:            nonrobust                                         \n",
      "==============================================================================\n",
      "                 coef    std err          t      P>|t|      [0.025      0.975]\n",
      "------------------------------------------------------------------------------\n",
      "intercept      1.1546      0.005    238.859      0.000       1.145       1.164\n",
      "p1q0           0.0366      0.004      9.455      0.000       0.029       0.044\n",
      "p2q0           0.0511      0.004     11.526      0.000       0.042       0.060\n",
      "p3q0           0.1354      0.004     32.701      0.000       0.127       0.144\n",
      "p0q1           0.4340      0.007     60.738      0.000       0.420       0.448\n",
      "p0q2           0.2612      0.008     33.476      0.000       0.246       0.277\n",
      "p0q3           0.1886      0.005     35.877      0.000       0.178       0.199\n",
      "val_p1q0      -0.0161      0.005     -3.427      0.001      -0.025      -0.007\n",
      "val_p2q0      -0.0548      0.005     -9.975      0.000      -0.066      -0.044\n",
      "val_p3q0      -0.1570      0.005    -29.815      0.000      -0.167      -0.147\n",
      "val_p0q1      -0.4254      0.008    -53.761      0.000      -0.441      -0.410\n",
      "val_p0q2      -0.2683      0.009    -31.301      0.000      -0.285      -0.252\n",
      "val_p0q3      -0.1990      0.006    -33.542      0.000      -0.211      -0.187\n",
      "==============================================================================\n",
      "Omnibus:                    12738.605   Durbin-Watson:                   1.968\n",
      "Prob(Omnibus):                  0.000   Jarque-Bera (JB):           271411.079\n",
      "Skew:                          -1.959   Prob(JB):                         0.00\n",
      "Kurtosis:                      18.606   Cond. No.                         95.3\n",
      "==============================================================================\n",
      "\n",
      "Notes:\n",
      "[1] Standard Errors assume that the covariance matrix of the errors is correctly specified.\n"
     ]
    }
   ],
   "source": [
    "Mmodel = AndreaLinearRegression()\n",
    "Mmodel.fit(X_train_multi, y_train_multi, column_names=features_piqj)\n",
    "Mmodel.summary()\n",
    "#from sklearn.linear_model import LinearRegression\n",
    "#Mmodel = LinearRegression()\n",
    "#Mmodel.fit(X_train_multi, y_train_multi)"
   ]
  },
  {
   "cell_type": "markdown",
   "metadata": {
    "id": "MqLQgPslk9zg"
   },
   "source": [
    "On retrouve bien une pvalue inférieure à 0.05 pour toutes les variables  \n",
    "De plus, l'importance des coefficients est plutôt cohérente par rapport à la corrélation de chaque variable explicative par rapport à la variable à expliquer (p0qj > piq0)\n",
    "Cependant, il est étonnant d'avoir le coefficient de p0q1 \"beaucoup\" plus grand que p0q2 (voir corrélation)\n",
    "Pour lever l'erreur de shape après le code\n",
    "\n",
    "```\n",
    "from sklearn.metrics import mean_absolute_error\n",
    "y_pred_multi = Mmodel.predict(X_test_multi)\n",
    "MAE_multi = mean_absolute_error(y_test, y_pred_multi)\n",
    "MAE_multi\n",
    "```\n",
    "\n",
    "On utilise la linear regression de scikit learn"
   ]
  },
  {
   "cell_type": "code",
   "execution_count": null,
   "metadata": {
    "colab": {
     "base_uri": "https://localhost:8080/",
     "height": 74
    },
    "executionInfo": {
     "elapsed": 13,
     "status": "ok",
     "timestamp": 1688404551610,
     "user": {
      "displayName": "Haga RANDRIANALY",
      "userId": "06151103051613160384"
     },
     "user_tz": -120
    },
    "id": "MnB4ytdwk8aV",
    "outputId": "ec93318e-b306-400c-e6ba-84d18cd6b82c"
   },
   "outputs": [
    {
     "data": {
      "text/html": [
       "<style>#sk-container-id-1 {color: black;background-color: white;}#sk-container-id-1 pre{padding: 0;}#sk-container-id-1 div.sk-toggleable {background-color: white;}#sk-container-id-1 label.sk-toggleable__label {cursor: pointer;display: block;width: 100%;margin-bottom: 0;padding: 0.3em;box-sizing: border-box;text-align: center;}#sk-container-id-1 label.sk-toggleable__label-arrow:before {content: \"▸\";float: left;margin-right: 0.25em;color: #696969;}#sk-container-id-1 label.sk-toggleable__label-arrow:hover:before {color: black;}#sk-container-id-1 div.sk-estimator:hover label.sk-toggleable__label-arrow:before {color: black;}#sk-container-id-1 div.sk-toggleable__content {max-height: 0;max-width: 0;overflow: hidden;text-align: left;background-color: #f0f8ff;}#sk-container-id-1 div.sk-toggleable__content pre {margin: 0.2em;color: black;border-radius: 0.25em;background-color: #f0f8ff;}#sk-container-id-1 input.sk-toggleable__control:checked~div.sk-toggleable__content {max-height: 200px;max-width: 100%;overflow: auto;}#sk-container-id-1 input.sk-toggleable__control:checked~label.sk-toggleable__label-arrow:before {content: \"▾\";}#sk-container-id-1 div.sk-estimator input.sk-toggleable__control:checked~label.sk-toggleable__label {background-color: #d4ebff;}#sk-container-id-1 div.sk-label input.sk-toggleable__control:checked~label.sk-toggleable__label {background-color: #d4ebff;}#sk-container-id-1 input.sk-hidden--visually {border: 0;clip: rect(1px 1px 1px 1px);clip: rect(1px, 1px, 1px, 1px);height: 1px;margin: -1px;overflow: hidden;padding: 0;position: absolute;width: 1px;}#sk-container-id-1 div.sk-estimator {font-family: monospace;background-color: #f0f8ff;border: 1px dotted black;border-radius: 0.25em;box-sizing: border-box;margin-bottom: 0.5em;}#sk-container-id-1 div.sk-estimator:hover {background-color: #d4ebff;}#sk-container-id-1 div.sk-parallel-item::after {content: \"\";width: 100%;border-bottom: 1px solid gray;flex-grow: 1;}#sk-container-id-1 div.sk-label:hover label.sk-toggleable__label {background-color: #d4ebff;}#sk-container-id-1 div.sk-serial::before {content: \"\";position: absolute;border-left: 1px solid gray;box-sizing: border-box;top: 0;bottom: 0;left: 50%;z-index: 0;}#sk-container-id-1 div.sk-serial {display: flex;flex-direction: column;align-items: center;background-color: white;padding-right: 0.2em;padding-left: 0.2em;position: relative;}#sk-container-id-1 div.sk-item {position: relative;z-index: 1;}#sk-container-id-1 div.sk-parallel {display: flex;align-items: stretch;justify-content: center;background-color: white;position: relative;}#sk-container-id-1 div.sk-item::before, #sk-container-id-1 div.sk-parallel-item::before {content: \"\";position: absolute;border-left: 1px solid gray;box-sizing: border-box;top: 0;bottom: 0;left: 50%;z-index: -1;}#sk-container-id-1 div.sk-parallel-item {display: flex;flex-direction: column;z-index: 1;position: relative;background-color: white;}#sk-container-id-1 div.sk-parallel-item:first-child::after {align-self: flex-end;width: 50%;}#sk-container-id-1 div.sk-parallel-item:last-child::after {align-self: flex-start;width: 50%;}#sk-container-id-1 div.sk-parallel-item:only-child::after {width: 0;}#sk-container-id-1 div.sk-dashed-wrapped {border: 1px dashed gray;margin: 0 0.4em 0.5em 0.4em;box-sizing: border-box;padding-bottom: 0.4em;background-color: white;}#sk-container-id-1 div.sk-label label {font-family: monospace;font-weight: bold;display: inline-block;line-height: 1.2em;}#sk-container-id-1 div.sk-label-container {text-align: center;}#sk-container-id-1 div.sk-container {/* jupyter's `normalize.less` sets `[hidden] { display: none; }` but bootstrap.min.css set `[hidden] { display: none !important; }` so we also need the `!important` here to be able to override the default hidden behavior on the sphinx rendered scikit-learn.org. See: https://github.com/scikit-learn/scikit-learn/issues/21755 */display: inline-block !important;position: relative;}#sk-container-id-1 div.sk-text-repr-fallback {display: none;}</style><div id=\"sk-container-id-1\" class=\"sk-top-container\"><div class=\"sk-text-repr-fallback\"><pre>LinearRegression()</pre><b>In a Jupyter environment, please rerun this cell to show the HTML representation or trust the notebook. <br />On GitHub, the HTML representation is unable to render, please try loading this page with nbviewer.org.</b></div><div class=\"sk-container\" hidden><div class=\"sk-item\"><div class=\"sk-estimator sk-toggleable\"><input class=\"sk-toggleable__control sk-hidden--visually\" id=\"sk-estimator-id-1\" type=\"checkbox\" checked><label for=\"sk-estimator-id-1\" class=\"sk-toggleable__label sk-toggleable__label-arrow\">LinearRegression</label><div class=\"sk-toggleable__content\"><pre>LinearRegression()</pre></div></div></div></div></div>"
      ],
      "text/plain": [
       "LinearRegression()"
      ]
     },
     "execution_count": 38,
     "metadata": {},
     "output_type": "execute_result"
    }
   ],
   "source": [
    "from sklearn.linear_model import LinearRegression\n",
    "Mmodel = LinearRegression()\n",
    "Mmodel.fit(X_train_multi, y_train_multi)"
   ]
  },
  {
   "cell_type": "code",
   "execution_count": null,
   "metadata": {
    "colab": {
     "base_uri": "https://localhost:8080/"
    },
    "executionInfo": {
     "elapsed": 13,
     "status": "ok",
     "timestamp": 1688404551611,
     "user": {
      "displayName": "Haga RANDRIANALY",
      "userId": "06151103051613160384"
     },
     "user_tz": -120
    },
    "id": "6D_1yL3Buctz",
    "outputId": "7c161067-0255-4edc-e30d-da1a4244d8da"
   },
   "outputs": [
    {
     "data": {
      "text/plain": [
       "0.039822089443238784"
      ]
     },
     "execution_count": 39,
     "metadata": {},
     "output_type": "execute_result"
    }
   ],
   "source": [
    "from sklearn.metrics import mean_absolute_error\n",
    "y_pred_multi = Mmodel.predict(X_test_multi)\n",
    "MAE_multi = mean_absolute_error(y_test, y_pred_multi)\n",
    "MAE_multi"
   ]
  },
  {
   "cell_type": "markdown",
   "metadata": {
    "id": "urR1sJvx3QEJ"
   },
   "source": [
    "##Régression linéaire avec les t0si"
   ]
  },
  {
   "cell_type": "code",
   "execution_count": null,
   "metadata": {
    "colab": {
     "base_uri": "https://localhost:8080/"
    },
    "executionInfo": {
     "elapsed": 10,
     "status": "ok",
     "timestamp": 1688404551611,
     "user": {
      "displayName": "Haga RANDRIANALY",
      "userId": "06151103051613160384"
     },
     "user_tz": -120
    },
    "id": "g95XkftKuwcV",
    "outputId": "53fc5263-3f87-4368-b83d-40406529bb77"
   },
   "outputs": [
    {
     "name": "stdout",
     "output_type": "stream",
     "text": [
      "                            OLS Regression Results                            \n",
      "==============================================================================\n",
      "Dep. Variable:                      y   R-squared:                       0.907\n",
      "Model:                            OLS   Adj. R-squared:                  0.907\n",
      "Method:                 Least Squares   F-statistic:                 2.041e+04\n",
      "Date:                Mon, 03 Jul 2023   Prob (F-statistic):               0.00\n",
      "Time:                        17:15:51   Log-Likelihood:                 40753.\n",
      "No. Observations:               25160   AIC:                        -8.148e+04\n",
      "Df Residuals:                   25147   BIC:                        -8.138e+04\n",
      "Df Model:                          12                                         \n",
      "Covariance Type:            nonrobust                                         \n",
      "==============================================================================\n",
      "                 coef    std err          t      P>|t|      [0.025      0.975]\n",
      "------------------------------------------------------------------------------\n",
      "intercept      1.0134      0.004    249.350      0.000       1.005       1.021\n",
      "t0s1           1.2614      0.009    135.327      0.000       1.243       1.280\n",
      "t0s2          -0.4140      0.010    -39.430      0.000      -0.435      -0.393\n",
      "t0s3          -0.0532      0.006     -8.666      0.000      -0.065      -0.041\n",
      "p1q0           0.0562      0.003     17.655      0.000       0.050       0.062\n",
      "p2q0           0.0157      0.004      4.253      0.000       0.008       0.023\n",
      "p3q0           0.0838      0.003     24.459      0.000       0.077       0.090\n",
      "val_p1q0      -0.0465      0.004    -11.994      0.000      -0.054      -0.039\n",
      "val_p2q0      -0.0182      0.005     -3.987      0.000      -0.027      -0.009\n",
      "val_p3q0      -0.0966      0.004    -22.174      0.000      -0.105      -0.088\n",
      "val_t0s1      -1.3241      0.010   -129.679      0.000      -1.344      -1.304\n",
      "val_t0s2       0.4295      0.011     38.557      0.000       0.408       0.451\n",
      "val_t0s3       0.0620      0.007      9.358      0.000       0.049       0.075\n",
      "==============================================================================\n",
      "Omnibus:                    18197.863   Durbin-Watson:                   1.961\n",
      "Prob(Omnibus):                  0.000   Jarque-Bera (JB):           744251.952\n",
      "Skew:                          -3.026   Prob(JB):                         0.00\n",
      "Kurtosis:                      28.948   Cond. No.                         154.\n",
      "==============================================================================\n",
      "\n",
      "Notes:\n",
      "[1] Standard Errors assume that the covariance matrix of the errors is correctly specified.\n"
     ]
    }
   ],
   "source": [
    "# Scikit learn models expect matrices. We first transform\n",
    "# the dataframe into an array\n",
    "X_train_multi2 = dataframe[features_t0si].values\n",
    "\n",
    "y_train_multi2 = dataframe['p0q0'].values\n",
    "\n",
    "\n",
    "# Do the same for the test dataset\n",
    "X_test_multi2 = validation[features_t0si].values\n",
    "y_test2 = validation['p0q0'].values\n",
    "\n",
    "Mmodel = AndreaLinearRegression()\n",
    "Mmodel.fit(X_train_multi2, y_train_multi2, column_names=features_t0si)\n",
    "Mmodel.summary()\n",
    "\n",
    "\n"
   ]
  },
  {
   "cell_type": "code",
   "execution_count": null,
   "metadata": {
    "colab": {
     "base_uri": "https://localhost:8080/"
    },
    "executionInfo": {
     "elapsed": 10,
     "status": "ok",
     "timestamp": 1688404551612,
     "user": {
      "displayName": "Haga RANDRIANALY",
      "userId": "06151103051613160384"
     },
     "user_tz": -120
    },
    "id": "xnKXfl53mqe_",
    "outputId": "f605eaa0-ea71-4667-e4ce-8340c36684a3"
   },
   "outputs": [
    {
     "data": {
      "text/plain": [
       "0.030690360197191544"
      ]
     },
     "execution_count": 41,
     "metadata": {},
     "output_type": "execute_result"
    }
   ],
   "source": [
    "Mmodel = LinearRegression()\n",
    "Mmodel.fit(X_train_multi2, y_train_multi2)\n",
    "\n",
    "y_pred_multi2 = Mmodel.predict(X_test_multi2)\n",
    "MAE_multi = mean_absolute_error(y_test2, y_pred_multi2)\n",
    "MAE_multi"
   ]
  },
  {
   "cell_type": "markdown",
   "metadata": {
    "id": "wJ6glMY181bE"
   },
   "source": []
  },
  {
   "cell_type": "markdown",
   "metadata": {
    "id": "thtley263EoL"
   },
   "source": [
    "Comme on peut s'y attendre, cela fonctionne mieux après correction des erreurs.  \n",
    "De plus, on obtient un meilleur MAE que lorque l'on utilise uniquement les variables contextuelles.\n",
    "On peut maintenant télécharger les nouveaux dataset avec les t0sj (version corrigée des p0qj)"
   ]
  },
  {
   "cell_type": "code",
   "execution_count": null,
   "metadata": {
    "id": "6AxeR8kzuDRa"
   },
   "outputs": [],
   "source": [
    "dataframe.to_csv('train_t0sj.csv')\n",
    "validation.to_csv('validation_t0sj.csv')"
   ]
  }
 ],
 "metadata": {
  "accelerator": "GPU",
  "colab": {
   "gpuType": "T4",
   "provenance": []
  },
  "kernelspec": {
   "display_name": "Python 3 (ipykernel)",
   "language": "python",
   "name": "python3"
  },
  "language_info": {
   "codemirror_mode": {
    "name": "ipython",
    "version": 3
   },
   "file_extension": ".py",
   "mimetype": "text/x-python",
   "name": "python",
   "nbconvert_exporter": "python",
   "pygments_lexer": "ipython3",
   "version": "3.11.4"
  }
 },
 "nbformat": 4,
 "nbformat_minor": 1
}
